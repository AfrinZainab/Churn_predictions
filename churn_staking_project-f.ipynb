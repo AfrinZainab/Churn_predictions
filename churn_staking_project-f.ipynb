{
 "cells": [
  {
   "cell_type": "code",
   "execution_count": 1,
   "metadata": {},
   "outputs": [],
   "source": [
    "import os\n",
    "import pandas as pd\n",
    "import numpy as np\n",
    "import statsmodels.api as sm\n",
    "from sklearn.model_selection import train_test_split\n",
    "from sklearn.linear_model import LogisticRegression\n",
    "from sklearn.tree import DecisionTreeClassifier\n",
    "from sklearn.metrics import accuracy_score\n",
    "from sklearn.ensemble import RandomForestClassifier\n",
    "from xgboost import XGBClassifier\n",
    "from sklearn.ensemble import GradientBoostingClassifier, GradientBoostingRegressor\n",
    "from sklearn import tree , metrics, preprocessing\n"
   ]
  },
  {
   "cell_type": "code",
   "execution_count": 2,
   "metadata": {},
   "outputs": [],
   "source": [
    "%matplotlib inline \n",
    "\n",
    "from IPython.display import Image\n",
    "import matplotlib as mlp\n",
    "import matplotlib.pyplot as plt\n",
    "import numpy as np\n",
    "import os\n",
    "import pandas as pd\n",
    "import sklearn\n",
    "import seaborn as sns"
   ]
  },
  {
   "cell_type": "code",
   "execution_count": 3,
   "metadata": {},
   "outputs": [],
   "source": [
    "os.chdir(\"E:\\\\Python\\\\Data Analytics\\\\data\")"
   ]
  },
  {
   "cell_type": "code",
   "execution_count": 4,
   "metadata": {},
   "outputs": [],
   "source": [
    "commos_data=pd.read_sas('commsdata.sas7bdat', encoding='latin-1')"
   ]
  },
  {
   "cell_type": "code",
   "execution_count": 5,
   "metadata": {},
   "outputs": [
    {
     "data": {
      "text/plain": [
       "(56557, 128)"
      ]
     },
     "execution_count": 5,
     "metadata": {},
     "output_type": "execute_result"
    }
   ],
   "source": [
    "commos_data.shape"
   ]
  },
  {
   "cell_type": "code",
   "execution_count": 6,
   "metadata": {},
   "outputs": [
    {
     "data": {
      "text/html": [
       "<div>\n",
       "<style scoped>\n",
       "    .dataframe tbody tr th:only-of-type {\n",
       "        vertical-align: middle;\n",
       "    }\n",
       "\n",
       "    .dataframe tbody tr th {\n",
       "        vertical-align: top;\n",
       "    }\n",
       "\n",
       "    .dataframe thead th {\n",
       "        text-align: right;\n",
       "    }\n",
       "</style>\n",
       "<table border=\"1\" class=\"dataframe\">\n",
       "  <thead>\n",
       "    <tr style=\"text-align: right;\">\n",
       "      <th></th>\n",
       "      <th>Customer_ID</th>\n",
       "      <th>upsell_xsell</th>\n",
       "      <th>churn</th>\n",
       "      <th>lifetime_value</th>\n",
       "      <th>avg_arpu_3m</th>\n",
       "      <th>acct_age</th>\n",
       "      <th>billing_cycle</th>\n",
       "      <th>nbr_contracts_ltd</th>\n",
       "      <th>credit_class</th>\n",
       "      <th>sales_channel</th>\n",
       "      <th>...</th>\n",
       "      <th>pymts_late_ltd</th>\n",
       "      <th>calls_care_ltd</th>\n",
       "      <th>MB_Data_Usg_M04</th>\n",
       "      <th>MB_Data_Usg_M05</th>\n",
       "      <th>MB_Data_Usg_M06</th>\n",
       "      <th>MB_Data_Usg_M07</th>\n",
       "      <th>MB_Data_Usg_M08</th>\n",
       "      <th>MB_Data_Usg_M09</th>\n",
       "      <th>seconds_of_data_norm</th>\n",
       "      <th>seconds_of_data_log</th>\n",
       "    </tr>\n",
       "  </thead>\n",
       "  <tbody>\n",
       "    <tr>\n",
       "      <th>0</th>\n",
       "      <td>471.0</td>\n",
       "      <td>0.0</td>\n",
       "      <td>0.0</td>\n",
       "      <td>1693.8</td>\n",
       "      <td>44.980000</td>\n",
       "      <td>55.000000</td>\n",
       "      <td>4.0</td>\n",
       "      <td>7.0</td>\n",
       "      <td>prime</td>\n",
       "      <td>Indirect</td>\n",
       "      <td>...</td>\n",
       "      <td>5.0</td>\n",
       "      <td>57.0</td>\n",
       "      <td>0.0</td>\n",
       "      <td>0.0</td>\n",
       "      <td>0.0</td>\n",
       "      <td>0.0</td>\n",
       "      <td>0.0</td>\n",
       "      <td>0.0</td>\n",
       "      <td>60.0</td>\n",
       "      <td>4.110874</td>\n",
       "    </tr>\n",
       "    <tr>\n",
       "      <th>1</th>\n",
       "      <td>1057.0</td>\n",
       "      <td>0.0</td>\n",
       "      <td>0.0</td>\n",
       "      <td>38682.5</td>\n",
       "      <td>44.989330</td>\n",
       "      <td>47.000000</td>\n",
       "      <td>3.0</td>\n",
       "      <td>5.0</td>\n",
       "      <td>prime</td>\n",
       "      <td>Indirect</td>\n",
       "      <td>...</td>\n",
       "      <td>5.0</td>\n",
       "      <td>115.0</td>\n",
       "      <td>0.0</td>\n",
       "      <td>0.0</td>\n",
       "      <td>0.0</td>\n",
       "      <td>0.0</td>\n",
       "      <td>330.0</td>\n",
       "      <td>646.0</td>\n",
       "      <td>48300.0</td>\n",
       "      <td>10.785208</td>\n",
       "    </tr>\n",
       "    <tr>\n",
       "      <th>2</th>\n",
       "      <td>1177.0</td>\n",
       "      <td>0.0</td>\n",
       "      <td>0.0</td>\n",
       "      <td>5526.4</td>\n",
       "      <td>51.775434</td>\n",
       "      <td>46.176471</td>\n",
       "      <td>7.0</td>\n",
       "      <td>4.8</td>\n",
       "      <td>prime</td>\n",
       "      <td>Retail</td>\n",
       "      <td>...</td>\n",
       "      <td>5.0</td>\n",
       "      <td>78.0</td>\n",
       "      <td>0.0</td>\n",
       "      <td>0.0</td>\n",
       "      <td>0.0</td>\n",
       "      <td>0.0</td>\n",
       "      <td>0.0</td>\n",
       "      <td>0.0</td>\n",
       "      <td>14700.0</td>\n",
       "      <td>9.595671</td>\n",
       "    </tr>\n",
       "    <tr>\n",
       "      <th>3</th>\n",
       "      <td>1181.0</td>\n",
       "      <td>0.0</td>\n",
       "      <td>0.0</td>\n",
       "      <td>505.6</td>\n",
       "      <td>51.775434</td>\n",
       "      <td>75.000000</td>\n",
       "      <td>7.0</td>\n",
       "      <td>4.8</td>\n",
       "      <td>prime</td>\n",
       "      <td>Retail</td>\n",
       "      <td>...</td>\n",
       "      <td>5.0</td>\n",
       "      <td>76.0</td>\n",
       "      <td>0.0</td>\n",
       "      <td>0.0</td>\n",
       "      <td>0.0</td>\n",
       "      <td>0.0</td>\n",
       "      <td>0.0</td>\n",
       "      <td>0.0</td>\n",
       "      <td>0.0</td>\n",
       "      <td>0.000000</td>\n",
       "    </tr>\n",
       "    <tr>\n",
       "      <th>4</th>\n",
       "      <td>1185.0</td>\n",
       "      <td>0.0</td>\n",
       "      <td>1.0</td>\n",
       "      <td>9143.2</td>\n",
       "      <td>83.320000</td>\n",
       "      <td>50.000000</td>\n",
       "      <td>5.0</td>\n",
       "      <td>3.0</td>\n",
       "      <td>prime</td>\n",
       "      <td>Indirect</td>\n",
       "      <td>...</td>\n",
       "      <td>5.0</td>\n",
       "      <td>80.0</td>\n",
       "      <td>0.0</td>\n",
       "      <td>0.0</td>\n",
       "      <td>0.0</td>\n",
       "      <td>0.0</td>\n",
       "      <td>0.0</td>\n",
       "      <td>0.0</td>\n",
       "      <td>15840.0</td>\n",
       "      <td>9.670357</td>\n",
       "    </tr>\n",
       "  </tbody>\n",
       "</table>\n",
       "<p>5 rows × 128 columns</p>\n",
       "</div>"
      ],
      "text/plain": [
       "   Customer_ID  upsell_xsell  churn  lifetime_value  avg_arpu_3m   acct_age  \\\n",
       "0        471.0           0.0    0.0          1693.8    44.980000  55.000000   \n",
       "1       1057.0           0.0    0.0         38682.5    44.989330  47.000000   \n",
       "2       1177.0           0.0    0.0          5526.4    51.775434  46.176471   \n",
       "3       1181.0           0.0    0.0           505.6    51.775434  75.000000   \n",
       "4       1185.0           0.0    1.0          9143.2    83.320000  50.000000   \n",
       "\n",
       "   billing_cycle  nbr_contracts_ltd credit_class sales_channel  \\\n",
       "0            4.0                7.0        prime      Indirect   \n",
       "1            3.0                5.0        prime      Indirect   \n",
       "2            7.0                4.8        prime        Retail   \n",
       "3            7.0                4.8        prime        Retail   \n",
       "4            5.0                3.0        prime      Indirect   \n",
       "\n",
       "          ...           pymts_late_ltd  calls_care_ltd MB_Data_Usg_M04  \\\n",
       "0         ...                      5.0            57.0             0.0   \n",
       "1         ...                      5.0           115.0             0.0   \n",
       "2         ...                      5.0            78.0             0.0   \n",
       "3         ...                      5.0            76.0             0.0   \n",
       "4         ...                      5.0            80.0             0.0   \n",
       "\n",
       "  MB_Data_Usg_M05 MB_Data_Usg_M06  MB_Data_Usg_M07  MB_Data_Usg_M08  \\\n",
       "0             0.0             0.0              0.0              0.0   \n",
       "1             0.0             0.0              0.0            330.0   \n",
       "2             0.0             0.0              0.0              0.0   \n",
       "3             0.0             0.0              0.0              0.0   \n",
       "4             0.0             0.0              0.0              0.0   \n",
       "\n",
       "   MB_Data_Usg_M09  seconds_of_data_norm  seconds_of_data_log  \n",
       "0              0.0                  60.0             4.110874  \n",
       "1            646.0               48300.0            10.785208  \n",
       "2              0.0               14700.0             9.595671  \n",
       "3              0.0                   0.0             0.000000  \n",
       "4              0.0               15840.0             9.670357  \n",
       "\n",
       "[5 rows x 128 columns]"
      ]
     },
     "execution_count": 6,
     "metadata": {},
     "output_type": "execute_result"
    }
   ],
   "source": [
    "commos_data.head()"
   ]
  },
  {
   "cell_type": "code",
   "execution_count": 7,
   "metadata": {},
   "outputs": [
    {
     "data": {
      "text/plain": [
       "['Customer_ID',\n",
       " 'upsell_xsell',\n",
       " 'churn',\n",
       " 'lifetime_value',\n",
       " 'avg_arpu_3m',\n",
       " 'acct_age',\n",
       " 'billing_cycle',\n",
       " 'nbr_contracts_ltd',\n",
       " 'credit_class',\n",
       " 'sales_channel',\n",
       " 'rfm_score',\n",
       " 'Est_HH_Income',\n",
       " 'region',\n",
       " 'state',\n",
       " 'city',\n",
       " 'zipcode_primary',\n",
       " 'region_lat',\n",
       " 'region_long',\n",
       " 'state_lat',\n",
       " 'state_long',\n",
       " 'city_lat',\n",
       " 'city_long',\n",
       " 'zip_lat',\n",
       " 'zip_long',\n",
       " 'cs_med_home_value',\n",
       " 'cs_pct_home_owner',\n",
       " 'cs_ttl_pop',\n",
       " 'cs_hispanic',\n",
       " 'cs_caucasian',\n",
       " 'cs_afr_amer',\n",
       " 'cs_other',\n",
       " 'cs_ttl_urban',\n",
       " 'cs_ttl_rural',\n",
       " 'cs_ttl_male',\n",
       " 'cs_ttl_female',\n",
       " 'cs_ttl_hhlds',\n",
       " 'cs_ttl_mdage',\n",
       " 'forecast_region',\n",
       " 'product_plan_desc',\n",
       " 'mb_inclplan',\n",
       " 'ever_days_over_plan',\n",
       " 'ever_times_over_plan',\n",
       " 'handset_age_grp',\n",
       " 'handset',\n",
       " 'lifestage',\n",
       " 'rp_pooled_ind',\n",
       " 'data_device_age',\n",
       " 'equip_age',\n",
       " 'mfg_apple',\n",
       " 'mfg_samsung',\n",
       " 'mfg_htc',\n",
       " 'mfg_motorola',\n",
       " 'mfg_lg',\n",
       " 'mfg_nokia',\n",
       " 'delinq_indicator',\n",
       " 'times_delinq',\n",
       " 'count_of_suspensions_6m',\n",
       " 'avg_days_susp',\n",
       " 'calls_total',\n",
       " 'calls_in_pk',\n",
       " 'calls_in_offpk',\n",
       " 'calls_out_offpk',\n",
       " 'calls_out_pk',\n",
       " 'mou_total_pct_MOM',\n",
       " 'mou_onnet_pct_MOM',\n",
       " 'mou_roam_pct_MOM',\n",
       " 'mou_onnet_6m_normal',\n",
       " 'mou_roam_6m_normal',\n",
       " 'voice_tot_bill_mou_curr',\n",
       " 'tot_voice_chrgs_curr',\n",
       " 'tot_drpd_pr1',\n",
       " 'bill_data_usg_m03',\n",
       " 'bill_data_usg_m06',\n",
       " 'bill_data_usg_m09',\n",
       " 'mb_data_usg_m01',\n",
       " 'mb_data_usg_m02',\n",
       " 'mb_data_usg_m03',\n",
       " 'mb_data_ndist_mo6m',\n",
       " 'mb_data_usg_roamm01',\n",
       " 'mb_data_usg_roamm02',\n",
       " 'mb_data_usg_roamm03',\n",
       " 'data_usage_amt',\n",
       " 'tweedie_adjusted',\n",
       " 'tot_mb_data_curr',\n",
       " 'tot_mb_data_roam_curr',\n",
       " 'bill_data_usg_tot',\n",
       " 'tot_overage_chgs',\n",
       " 'data_prem_chrgs_curr',\n",
       " 'nbr_data_cdrs',\n",
       " 'avg_data_chrgs_3m',\n",
       " 'avg_data_prem_chrgs_3m',\n",
       " 'avg_overage_chrgs_3m',\n",
       " 'nbr_contacts',\n",
       " 'calls_TS_acct',\n",
       " 'open_tsupcomplnts',\n",
       " 'num_tsupcomplnts',\n",
       " 'unsolv_tsupcomplnt',\n",
       " 'wrk_orders',\n",
       " 'days_openwrkorders',\n",
       " 'resolved_complnts',\n",
       " 'calls_care_acct',\n",
       " 'calls_care_3mavg_acct',\n",
       " 'calls_care_6mavg_acct',\n",
       " 'res_calls_3mavg_acct',\n",
       " 'res_calls_6mavg_acct',\n",
       " 'last_rep_sat_score',\n",
       " 'call_center',\n",
       " 'issue_level1',\n",
       " 'issue_level2',\n",
       " 'call_category_1',\n",
       " 'call_category_2',\n",
       " 'resolution',\n",
       " 'network_mention',\n",
       " 'service_mention',\n",
       " 'price_mention',\n",
       " 'verbatims',\n",
       " 'times_susp',\n",
       " 'curr_days_susp',\n",
       " 'pymts_late_ltd',\n",
       " 'calls_care_ltd',\n",
       " 'MB_Data_Usg_M04',\n",
       " 'MB_Data_Usg_M05',\n",
       " 'MB_Data_Usg_M06',\n",
       " 'MB_Data_Usg_M07',\n",
       " 'MB_Data_Usg_M08',\n",
       " 'MB_Data_Usg_M09',\n",
       " 'seconds_of_data_norm',\n",
       " 'seconds_of_data_log']"
      ]
     },
     "execution_count": 7,
     "metadata": {},
     "output_type": "execute_result"
    }
   ],
   "source": [
    "list(commos_data)"
   ]
  },
  {
   "cell_type": "code",
   "execution_count": 8,
   "metadata": {},
   "outputs": [],
   "source": [
    "df=commos_data[['churn','MB_Data_Usg_M04','MB_Data_Usg_M07','avg_arpu_3m','acct_age','avg_data_chrgs_3m', 'mb_data_usg_m03','calls_TS_acct', 'calls_in_offpk','calls_in_pk', 'count_of_suspensions_6m', 'credit_class','data_usage_amt','ever_days_over_plan','ever_times_over_plan','lifetime_value','mb_data_usg_m02','mou_onnet_6m_normal','mou_onnet_pct_MOM','mou_total_pct_MOM','res_calls_3mavg_acct','res_calls_6mavg_acct', 'times_delinq','tot_mb_data_curr','tot_mb_data_roam_curr','tot_overage_chgs','tot_voice_chrgs_curr','voice_tot_bill_mou_curr']]"
   ]
  },
  {
   "cell_type": "code",
   "execution_count": 9,
   "metadata": {},
   "outputs": [
    {
     "data": {
      "text/html": [
       "<div>\n",
       "<style scoped>\n",
       "    .dataframe tbody tr th:only-of-type {\n",
       "        vertical-align: middle;\n",
       "    }\n",
       "\n",
       "    .dataframe tbody tr th {\n",
       "        vertical-align: top;\n",
       "    }\n",
       "\n",
       "    .dataframe thead th {\n",
       "        text-align: right;\n",
       "    }\n",
       "</style>\n",
       "<table border=\"1\" class=\"dataframe\">\n",
       "  <thead>\n",
       "    <tr style=\"text-align: right;\">\n",
       "      <th></th>\n",
       "      <th>churn</th>\n",
       "      <th>MB_Data_Usg_M04</th>\n",
       "      <th>MB_Data_Usg_M07</th>\n",
       "      <th>avg_arpu_3m</th>\n",
       "      <th>acct_age</th>\n",
       "      <th>avg_data_chrgs_3m</th>\n",
       "      <th>mb_data_usg_m03</th>\n",
       "      <th>calls_TS_acct</th>\n",
       "      <th>calls_in_offpk</th>\n",
       "      <th>calls_in_pk</th>\n",
       "      <th>...</th>\n",
       "      <th>mou_onnet_pct_MOM</th>\n",
       "      <th>mou_total_pct_MOM</th>\n",
       "      <th>res_calls_3mavg_acct</th>\n",
       "      <th>res_calls_6mavg_acct</th>\n",
       "      <th>times_delinq</th>\n",
       "      <th>tot_mb_data_curr</th>\n",
       "      <th>tot_mb_data_roam_curr</th>\n",
       "      <th>tot_overage_chgs</th>\n",
       "      <th>tot_voice_chrgs_curr</th>\n",
       "      <th>voice_tot_bill_mou_curr</th>\n",
       "    </tr>\n",
       "  </thead>\n",
       "  <tbody>\n",
       "    <tr>\n",
       "      <th>0</th>\n",
       "      <td>0.0</td>\n",
       "      <td>0.0</td>\n",
       "      <td>0.0</td>\n",
       "      <td>44.980000</td>\n",
       "      <td>55.000000</td>\n",
       "      <td>0.000000</td>\n",
       "      <td>1972.923588</td>\n",
       "      <td>2.0</td>\n",
       "      <td>236.346667</td>\n",
       "      <td>126.000000</td>\n",
       "      <td>...</td>\n",
       "      <td>-0.359859</td>\n",
       "      <td>-0.008977</td>\n",
       "      <td>0.000000</td>\n",
       "      <td>0.000000</td>\n",
       "      <td>1.0</td>\n",
       "      <td>552.476771</td>\n",
       "      <td>0.0</td>\n",
       "      <td>0.000000</td>\n",
       "      <td>39.990000</td>\n",
       "      <td>2184.012768</td>\n",
       "    </tr>\n",
       "    <tr>\n",
       "      <th>1</th>\n",
       "      <td>0.0</td>\n",
       "      <td>0.0</td>\n",
       "      <td>0.0</td>\n",
       "      <td>44.989330</td>\n",
       "      <td>47.000000</td>\n",
       "      <td>24.993330</td>\n",
       "      <td>3640.361179</td>\n",
       "      <td>0.0</td>\n",
       "      <td>1338.943333</td>\n",
       "      <td>809.333333</td>\n",
       "      <td>...</td>\n",
       "      <td>-0.493587</td>\n",
       "      <td>-0.187233</td>\n",
       "      <td>0.000000</td>\n",
       "      <td>0.000000</td>\n",
       "      <td>1.0</td>\n",
       "      <td>6165.542121</td>\n",
       "      <td>0.0</td>\n",
       "      <td>19.900000</td>\n",
       "      <td>15.996000</td>\n",
       "      <td>34880.150043</td>\n",
       "    </tr>\n",
       "    <tr>\n",
       "      <th>2</th>\n",
       "      <td>0.0</td>\n",
       "      <td>0.0</td>\n",
       "      <td>0.0</td>\n",
       "      <td>51.775434</td>\n",
       "      <td>46.176471</td>\n",
       "      <td>8.321470</td>\n",
       "      <td>1763.400476</td>\n",
       "      <td>6.0</td>\n",
       "      <td>402.116667</td>\n",
       "      <td>212.666667</td>\n",
       "      <td>...</td>\n",
       "      <td>-0.730719</td>\n",
       "      <td>0.044034</td>\n",
       "      <td>0.000000</td>\n",
       "      <td>0.000000</td>\n",
       "      <td>1.0</td>\n",
       "      <td>1762.668283</td>\n",
       "      <td>0.0</td>\n",
       "      <td>1.103353</td>\n",
       "      <td>29.301982</td>\n",
       "      <td>5125.863130</td>\n",
       "    </tr>\n",
       "    <tr>\n",
       "      <th>3</th>\n",
       "      <td>0.0</td>\n",
       "      <td>0.0</td>\n",
       "      <td>0.0</td>\n",
       "      <td>51.775434</td>\n",
       "      <td>75.000000</td>\n",
       "      <td>8.321470</td>\n",
       "      <td>1094.372448</td>\n",
       "      <td>3.0</td>\n",
       "      <td>7.566667</td>\n",
       "      <td>1.000000</td>\n",
       "      <td>...</td>\n",
       "      <td>-1.000000</td>\n",
       "      <td>-1.000000</td>\n",
       "      <td>0.000000</td>\n",
       "      <td>0.000000</td>\n",
       "      <td>1.0</td>\n",
       "      <td>1184.412701</td>\n",
       "      <td>0.0</td>\n",
       "      <td>1.103353</td>\n",
       "      <td>29.301982</td>\n",
       "      <td>53.515804</td>\n",
       "    </tr>\n",
       "    <tr>\n",
       "      <th>4</th>\n",
       "      <td>1.0</td>\n",
       "      <td>0.0</td>\n",
       "      <td>0.0</td>\n",
       "      <td>83.320000</td>\n",
       "      <td>50.000000</td>\n",
       "      <td>23.330000</td>\n",
       "      <td>4202.733267</td>\n",
       "      <td>5.0</td>\n",
       "      <td>1585.286667</td>\n",
       "      <td>1198.666667</td>\n",
       "      <td>...</td>\n",
       "      <td>-0.795729</td>\n",
       "      <td>-0.510098</td>\n",
       "      <td>0.000000</td>\n",
       "      <td>0.000000</td>\n",
       "      <td>1.0</td>\n",
       "      <td>3143.648157</td>\n",
       "      <td>0.0</td>\n",
       "      <td>0.000000</td>\n",
       "      <td>49.990000</td>\n",
       "      <td>37070.996149</td>\n",
       "    </tr>\n",
       "    <tr>\n",
       "      <th>5</th>\n",
       "      <td>1.0</td>\n",
       "      <td>0.0</td>\n",
       "      <td>0.0</td>\n",
       "      <td>62.806660</td>\n",
       "      <td>56.000000</td>\n",
       "      <td>7.826666</td>\n",
       "      <td>2152.936531</td>\n",
       "      <td>4.0</td>\n",
       "      <td>594.090000</td>\n",
       "      <td>238.000000</td>\n",
       "      <td>...</td>\n",
       "      <td>-0.148972</td>\n",
       "      <td>2.072115</td>\n",
       "      <td>0.000000</td>\n",
       "      <td>0.000000</td>\n",
       "      <td>1.0</td>\n",
       "      <td>2055.024175</td>\n",
       "      <td>0.0</td>\n",
       "      <td>0.000000</td>\n",
       "      <td>39.990000</td>\n",
       "      <td>11445.793120</td>\n",
       "    </tr>\n",
       "    <tr>\n",
       "      <th>6</th>\n",
       "      <td>0.0</td>\n",
       "      <td>0.0</td>\n",
       "      <td>0.0</td>\n",
       "      <td>79.615000</td>\n",
       "      <td>64.000000</td>\n",
       "      <td>40.640000</td>\n",
       "      <td>2128.927274</td>\n",
       "      <td>1.0</td>\n",
       "      <td>624.686667</td>\n",
       "      <td>547.666667</td>\n",
       "      <td>...</td>\n",
       "      <td>-0.671083</td>\n",
       "      <td>-0.099541</td>\n",
       "      <td>0.898477</td>\n",
       "      <td>0.494359</td>\n",
       "      <td>0.0</td>\n",
       "      <td>2096.479654</td>\n",
       "      <td>0.0</td>\n",
       "      <td>0.000000</td>\n",
       "      <td>38.985000</td>\n",
       "      <td>10663.855136</td>\n",
       "    </tr>\n",
       "    <tr>\n",
       "      <th>7</th>\n",
       "      <td>0.0</td>\n",
       "      <td>0.0</td>\n",
       "      <td>0.0</td>\n",
       "      <td>66.643330</td>\n",
       "      <td>45.000000</td>\n",
       "      <td>0.300000</td>\n",
       "      <td>3351.043488</td>\n",
       "      <td>0.0</td>\n",
       "      <td>1408.733333</td>\n",
       "      <td>852.666667</td>\n",
       "      <td>...</td>\n",
       "      <td>-0.728924</td>\n",
       "      <td>-0.027257</td>\n",
       "      <td>0.000000</td>\n",
       "      <td>0.000000</td>\n",
       "      <td>1.0</td>\n",
       "      <td>3421.024279</td>\n",
       "      <td>0.0</td>\n",
       "      <td>0.000000</td>\n",
       "      <td>29.993330</td>\n",
       "      <td>21028.493520</td>\n",
       "    </tr>\n",
       "    <tr>\n",
       "      <th>8</th>\n",
       "      <td>0.0</td>\n",
       "      <td>0.0</td>\n",
       "      <td>604.0</td>\n",
       "      <td>51.775434</td>\n",
       "      <td>46.176471</td>\n",
       "      <td>8.321470</td>\n",
       "      <td>2903.959444</td>\n",
       "      <td>17.0</td>\n",
       "      <td>755.473333</td>\n",
       "      <td>226.000000</td>\n",
       "      <td>...</td>\n",
       "      <td>-0.571054</td>\n",
       "      <td>-0.057198</td>\n",
       "      <td>0.000000</td>\n",
       "      <td>0.000000</td>\n",
       "      <td>1.0</td>\n",
       "      <td>2230.001352</td>\n",
       "      <td>0.0</td>\n",
       "      <td>1.103353</td>\n",
       "      <td>29.301982</td>\n",
       "      <td>4101.241679</td>\n",
       "    </tr>\n",
       "    <tr>\n",
       "      <th>9</th>\n",
       "      <td>0.0</td>\n",
       "      <td>0.0</td>\n",
       "      <td>0.0</td>\n",
       "      <td>71.083330</td>\n",
       "      <td>54.000000</td>\n",
       "      <td>9.776666</td>\n",
       "      <td>2499.364553</td>\n",
       "      <td>13.0</td>\n",
       "      <td>986.400000</td>\n",
       "      <td>780.666667</td>\n",
       "      <td>...</td>\n",
       "      <td>-0.645906</td>\n",
       "      <td>0.203727</td>\n",
       "      <td>0.000000</td>\n",
       "      <td>0.000000</td>\n",
       "      <td>1.0</td>\n",
       "      <td>1997.546250</td>\n",
       "      <td>0.0</td>\n",
       "      <td>0.000000</td>\n",
       "      <td>44.990000</td>\n",
       "      <td>7490.420915</td>\n",
       "    </tr>\n",
       "  </tbody>\n",
       "</table>\n",
       "<p>10 rows × 28 columns</p>\n",
       "</div>"
      ],
      "text/plain": [
       "   churn  MB_Data_Usg_M04  MB_Data_Usg_M07  avg_arpu_3m   acct_age  \\\n",
       "0    0.0              0.0              0.0    44.980000  55.000000   \n",
       "1    0.0              0.0              0.0    44.989330  47.000000   \n",
       "2    0.0              0.0              0.0    51.775434  46.176471   \n",
       "3    0.0              0.0              0.0    51.775434  75.000000   \n",
       "4    1.0              0.0              0.0    83.320000  50.000000   \n",
       "5    1.0              0.0              0.0    62.806660  56.000000   \n",
       "6    0.0              0.0              0.0    79.615000  64.000000   \n",
       "7    0.0              0.0              0.0    66.643330  45.000000   \n",
       "8    0.0              0.0            604.0    51.775434  46.176471   \n",
       "9    0.0              0.0              0.0    71.083330  54.000000   \n",
       "\n",
       "   avg_data_chrgs_3m  mb_data_usg_m03  calls_TS_acct  calls_in_offpk  \\\n",
       "0           0.000000      1972.923588            2.0      236.346667   \n",
       "1          24.993330      3640.361179            0.0     1338.943333   \n",
       "2           8.321470      1763.400476            6.0      402.116667   \n",
       "3           8.321470      1094.372448            3.0        7.566667   \n",
       "4          23.330000      4202.733267            5.0     1585.286667   \n",
       "5           7.826666      2152.936531            4.0      594.090000   \n",
       "6          40.640000      2128.927274            1.0      624.686667   \n",
       "7           0.300000      3351.043488            0.0     1408.733333   \n",
       "8           8.321470      2903.959444           17.0      755.473333   \n",
       "9           9.776666      2499.364553           13.0      986.400000   \n",
       "\n",
       "   calls_in_pk           ...             mou_onnet_pct_MOM mou_total_pct_MOM  \\\n",
       "0   126.000000           ...                     -0.359859         -0.008977   \n",
       "1   809.333333           ...                     -0.493587         -0.187233   \n",
       "2   212.666667           ...                     -0.730719          0.044034   \n",
       "3     1.000000           ...                     -1.000000         -1.000000   \n",
       "4  1198.666667           ...                     -0.795729         -0.510098   \n",
       "5   238.000000           ...                     -0.148972          2.072115   \n",
       "6   547.666667           ...                     -0.671083         -0.099541   \n",
       "7   852.666667           ...                     -0.728924         -0.027257   \n",
       "8   226.000000           ...                     -0.571054         -0.057198   \n",
       "9   780.666667           ...                     -0.645906          0.203727   \n",
       "\n",
       "   res_calls_3mavg_acct  res_calls_6mavg_acct  times_delinq  tot_mb_data_curr  \\\n",
       "0              0.000000              0.000000           1.0        552.476771   \n",
       "1              0.000000              0.000000           1.0       6165.542121   \n",
       "2              0.000000              0.000000           1.0       1762.668283   \n",
       "3              0.000000              0.000000           1.0       1184.412701   \n",
       "4              0.000000              0.000000           1.0       3143.648157   \n",
       "5              0.000000              0.000000           1.0       2055.024175   \n",
       "6              0.898477              0.494359           0.0       2096.479654   \n",
       "7              0.000000              0.000000           1.0       3421.024279   \n",
       "8              0.000000              0.000000           1.0       2230.001352   \n",
       "9              0.000000              0.000000           1.0       1997.546250   \n",
       "\n",
       "   tot_mb_data_roam_curr  tot_overage_chgs  tot_voice_chrgs_curr  \\\n",
       "0                    0.0          0.000000             39.990000   \n",
       "1                    0.0         19.900000             15.996000   \n",
       "2                    0.0          1.103353             29.301982   \n",
       "3                    0.0          1.103353             29.301982   \n",
       "4                    0.0          0.000000             49.990000   \n",
       "5                    0.0          0.000000             39.990000   \n",
       "6                    0.0          0.000000             38.985000   \n",
       "7                    0.0          0.000000             29.993330   \n",
       "8                    0.0          1.103353             29.301982   \n",
       "9                    0.0          0.000000             44.990000   \n",
       "\n",
       "   voice_tot_bill_mou_curr  \n",
       "0              2184.012768  \n",
       "1             34880.150043  \n",
       "2              5125.863130  \n",
       "3                53.515804  \n",
       "4             37070.996149  \n",
       "5             11445.793120  \n",
       "6             10663.855136  \n",
       "7             21028.493520  \n",
       "8              4101.241679  \n",
       "9              7490.420915  \n",
       "\n",
       "[10 rows x 28 columns]"
      ]
     },
     "execution_count": 9,
     "metadata": {},
     "output_type": "execute_result"
    }
   ],
   "source": [
    "df.head(10)"
   ]
  },
  {
   "cell_type": "code",
   "execution_count": 10,
   "metadata": {},
   "outputs": [
    {
     "data": {
      "text/plain": [
       "(56557, 28)"
      ]
     },
     "execution_count": 10,
     "metadata": {},
     "output_type": "execute_result"
    }
   ],
   "source": [
    "df.shape"
   ]
  },
  {
   "cell_type": "code",
   "execution_count": 11,
   "metadata": {},
   "outputs": [
    {
     "data": {
      "text/plain": [
       "churn                          0\n",
       "MB_Data_Usg_M04                0\n",
       "MB_Data_Usg_M07                0\n",
       "avg_arpu_3m                 1120\n",
       "acct_age                       0\n",
       "avg_data_chrgs_3m           1120\n",
       "mb_data_usg_m03                0\n",
       "calls_TS_acct                  0\n",
       "calls_in_offpk                 0\n",
       "calls_in_pk                    0\n",
       "count_of_suspensions_6m        0\n",
       "credit_class                   0\n",
       "data_usage_amt                 0\n",
       "ever_days_over_plan            0\n",
       "ever_times_over_plan           0\n",
       "lifetime_value                 0\n",
       "mb_data_usg_m02                0\n",
       "mou_onnet_6m_normal        21352\n",
       "mou_onnet_pct_MOM          26745\n",
       "mou_total_pct_MOM           9104\n",
       "res_calls_3mavg_acct           0\n",
       "res_calls_6mavg_acct           0\n",
       "times_delinq                   0\n",
       "tot_mb_data_curr               0\n",
       "tot_mb_data_roam_curr          0\n",
       "tot_overage_chgs            1120\n",
       "tot_voice_chrgs_curr        1120\n",
       "voice_tot_bill_mou_curr        0\n",
       "dtype: int64"
      ]
     },
     "execution_count": 11,
     "metadata": {},
     "output_type": "execute_result"
    }
   ],
   "source": [
    "df.isnull().sum()"
   ]
  },
  {
   "cell_type": "code",
   "execution_count": 12,
   "metadata": {},
   "outputs": [],
   "source": [
    "df1=df.dropna(axis=1)"
   ]
  },
  {
   "cell_type": "code",
   "execution_count": 13,
   "metadata": {},
   "outputs": [],
   "source": [
    "df=df.dropna()"
   ]
  },
  {
   "cell_type": "code",
   "execution_count": 14,
   "metadata": {},
   "outputs": [],
   "source": [
    "df=df.dropna()"
   ]
  },
  {
   "cell_type": "code",
   "execution_count": 15,
   "metadata": {
    "scrolled": true
   },
   "outputs": [
    {
     "data": {
      "text/plain": [
       "churn                      0\n",
       "MB_Data_Usg_M04            0\n",
       "MB_Data_Usg_M07            0\n",
       "avg_arpu_3m                0\n",
       "acct_age                   0\n",
       "avg_data_chrgs_3m          0\n",
       "mb_data_usg_m03            0\n",
       "calls_TS_acct              0\n",
       "calls_in_offpk             0\n",
       "calls_in_pk                0\n",
       "count_of_suspensions_6m    0\n",
       "credit_class               0\n",
       "data_usage_amt             0\n",
       "ever_days_over_plan        0\n",
       "ever_times_over_plan       0\n",
       "lifetime_value             0\n",
       "mb_data_usg_m02            0\n",
       "mou_onnet_6m_normal        0\n",
       "mou_onnet_pct_MOM          0\n",
       "mou_total_pct_MOM          0\n",
       "res_calls_3mavg_acct       0\n",
       "res_calls_6mavg_acct       0\n",
       "times_delinq               0\n",
       "tot_mb_data_curr           0\n",
       "tot_mb_data_roam_curr      0\n",
       "tot_overage_chgs           0\n",
       "tot_voice_chrgs_curr       0\n",
       "voice_tot_bill_mou_curr    0\n",
       "dtype: int64"
      ]
     },
     "execution_count": 15,
     "metadata": {},
     "output_type": "execute_result"
    }
   ],
   "source": [
    "df.isnull().sum()"
   ]
  },
  {
   "cell_type": "code",
   "execution_count": 16,
   "metadata": {},
   "outputs": [
    {
     "data": {
      "text/plain": [
       "(26900, 28)"
      ]
     },
     "execution_count": 16,
     "metadata": {},
     "output_type": "execute_result"
    }
   ],
   "source": [
    "df.shape"
   ]
  },
  {
   "cell_type": "code",
   "execution_count": 17,
   "metadata": {},
   "outputs": [
    {
     "data": {
      "text/plain": [
       "(56557, 21)"
      ]
     },
     "execution_count": 17,
     "metadata": {},
     "output_type": "execute_result"
    }
   ],
   "source": [
    "df1.shape"
   ]
  },
  {
   "cell_type": "markdown",
   "metadata": {},
   "source": [
    "####  Droping the  coloumns conating Nan values could lead to loss of information as important variable such as arpu(average recharge of three months). hence obseravtions containing Nan values were dropped by dropping the rows conatining them"
   ]
  },
  {
   "cell_type": "code",
   "execution_count": 18,
   "metadata": {},
   "outputs": [
    {
     "name": "stdout",
     "output_type": "stream",
     "text": [
      "<class 'pandas.core.frame.DataFrame'>\n",
      "Int64Index: 26900 entries, 0 to 56554\n",
      "Data columns (total 28 columns):\n",
      "churn                      26900 non-null float64\n",
      "MB_Data_Usg_M04            26900 non-null float64\n",
      "MB_Data_Usg_M07            26900 non-null float64\n",
      "avg_arpu_3m                26900 non-null float64\n",
      "acct_age                   26900 non-null float64\n",
      "avg_data_chrgs_3m          26900 non-null float64\n",
      "mb_data_usg_m03            26900 non-null float64\n",
      "calls_TS_acct              26900 non-null float64\n",
      "calls_in_offpk             26900 non-null float64\n",
      "calls_in_pk                26900 non-null float64\n",
      "count_of_suspensions_6m    26900 non-null float64\n",
      "credit_class               26900 non-null object\n",
      "data_usage_amt             26900 non-null float64\n",
      "ever_days_over_plan        26900 non-null float64\n",
      "ever_times_over_plan       26900 non-null float64\n",
      "lifetime_value             26900 non-null float64\n",
      "mb_data_usg_m02            26900 non-null float64\n",
      "mou_onnet_6m_normal        26900 non-null float64\n",
      "mou_onnet_pct_MOM          26900 non-null float64\n",
      "mou_total_pct_MOM          26900 non-null float64\n",
      "res_calls_3mavg_acct       26900 non-null float64\n",
      "res_calls_6mavg_acct       26900 non-null float64\n",
      "times_delinq               26900 non-null float64\n",
      "tot_mb_data_curr           26900 non-null float64\n",
      "tot_mb_data_roam_curr      26900 non-null float64\n",
      "tot_overage_chgs           26900 non-null float64\n",
      "tot_voice_chrgs_curr       26900 non-null float64\n",
      "voice_tot_bill_mou_curr    26900 non-null float64\n",
      "dtypes: float64(27), object(1)\n",
      "memory usage: 6.0+ MB\n"
     ]
    }
   ],
   "source": [
    "df.info()"
   ]
  },
  {
   "cell_type": "code",
   "execution_count": 19,
   "metadata": {},
   "outputs": [
    {
     "data": {
      "text/html": [
       "<div>\n",
       "<style scoped>\n",
       "    .dataframe tbody tr th:only-of-type {\n",
       "        vertical-align: middle;\n",
       "    }\n",
       "\n",
       "    .dataframe tbody tr th {\n",
       "        vertical-align: top;\n",
       "    }\n",
       "\n",
       "    .dataframe thead th {\n",
       "        text-align: right;\n",
       "    }\n",
       "</style>\n",
       "<table border=\"1\" class=\"dataframe\">\n",
       "  <thead>\n",
       "    <tr style=\"text-align: right;\">\n",
       "      <th></th>\n",
       "      <th>churn</th>\n",
       "      <th>MB_Data_Usg_M04</th>\n",
       "      <th>MB_Data_Usg_M07</th>\n",
       "      <th>avg_arpu_3m</th>\n",
       "      <th>acct_age</th>\n",
       "      <th>avg_data_chrgs_3m</th>\n",
       "      <th>mb_data_usg_m03</th>\n",
       "      <th>calls_TS_acct</th>\n",
       "      <th>calls_in_offpk</th>\n",
       "      <th>calls_in_pk</th>\n",
       "      <th>...</th>\n",
       "      <th>mou_onnet_pct_MOM</th>\n",
       "      <th>mou_total_pct_MOM</th>\n",
       "      <th>res_calls_3mavg_acct</th>\n",
       "      <th>res_calls_6mavg_acct</th>\n",
       "      <th>times_delinq</th>\n",
       "      <th>tot_mb_data_curr</th>\n",
       "      <th>tot_mb_data_roam_curr</th>\n",
       "      <th>tot_overage_chgs</th>\n",
       "      <th>tot_voice_chrgs_curr</th>\n",
       "      <th>voice_tot_bill_mou_curr</th>\n",
       "    </tr>\n",
       "  </thead>\n",
       "  <tbody>\n",
       "    <tr>\n",
       "      <th>0</th>\n",
       "      <td>0.0</td>\n",
       "      <td>0.0</td>\n",
       "      <td>0.0</td>\n",
       "      <td>44.980000</td>\n",
       "      <td>55.000000</td>\n",
       "      <td>0.00000</td>\n",
       "      <td>1972.923588</td>\n",
       "      <td>2.0</td>\n",
       "      <td>236.346667</td>\n",
       "      <td>126.000000</td>\n",
       "      <td>...</td>\n",
       "      <td>-0.359859</td>\n",
       "      <td>-0.008977</td>\n",
       "      <td>0.0</td>\n",
       "      <td>0.0</td>\n",
       "      <td>1.0</td>\n",
       "      <td>552.476771</td>\n",
       "      <td>0.0</td>\n",
       "      <td>0.000000</td>\n",
       "      <td>39.990000</td>\n",
       "      <td>2184.012768</td>\n",
       "    </tr>\n",
       "    <tr>\n",
       "      <th>1</th>\n",
       "      <td>0.0</td>\n",
       "      <td>0.0</td>\n",
       "      <td>0.0</td>\n",
       "      <td>44.989330</td>\n",
       "      <td>47.000000</td>\n",
       "      <td>24.99333</td>\n",
       "      <td>3640.361179</td>\n",
       "      <td>0.0</td>\n",
       "      <td>1338.943333</td>\n",
       "      <td>809.333333</td>\n",
       "      <td>...</td>\n",
       "      <td>-0.493587</td>\n",
       "      <td>-0.187233</td>\n",
       "      <td>0.0</td>\n",
       "      <td>0.0</td>\n",
       "      <td>1.0</td>\n",
       "      <td>6165.542121</td>\n",
       "      <td>0.0</td>\n",
       "      <td>19.900000</td>\n",
       "      <td>15.996000</td>\n",
       "      <td>34880.150043</td>\n",
       "    </tr>\n",
       "    <tr>\n",
       "      <th>2</th>\n",
       "      <td>0.0</td>\n",
       "      <td>0.0</td>\n",
       "      <td>0.0</td>\n",
       "      <td>51.775434</td>\n",
       "      <td>46.176471</td>\n",
       "      <td>8.32147</td>\n",
       "      <td>1763.400476</td>\n",
       "      <td>6.0</td>\n",
       "      <td>402.116667</td>\n",
       "      <td>212.666667</td>\n",
       "      <td>...</td>\n",
       "      <td>-0.730719</td>\n",
       "      <td>0.044034</td>\n",
       "      <td>0.0</td>\n",
       "      <td>0.0</td>\n",
       "      <td>1.0</td>\n",
       "      <td>1762.668283</td>\n",
       "      <td>0.0</td>\n",
       "      <td>1.103353</td>\n",
       "      <td>29.301982</td>\n",
       "      <td>5125.863130</td>\n",
       "    </tr>\n",
       "    <tr>\n",
       "      <th>3</th>\n",
       "      <td>0.0</td>\n",
       "      <td>0.0</td>\n",
       "      <td>0.0</td>\n",
       "      <td>51.775434</td>\n",
       "      <td>75.000000</td>\n",
       "      <td>8.32147</td>\n",
       "      <td>1094.372448</td>\n",
       "      <td>3.0</td>\n",
       "      <td>7.566667</td>\n",
       "      <td>1.000000</td>\n",
       "      <td>...</td>\n",
       "      <td>-1.000000</td>\n",
       "      <td>-1.000000</td>\n",
       "      <td>0.0</td>\n",
       "      <td>0.0</td>\n",
       "      <td>1.0</td>\n",
       "      <td>1184.412701</td>\n",
       "      <td>0.0</td>\n",
       "      <td>1.103353</td>\n",
       "      <td>29.301982</td>\n",
       "      <td>53.515804</td>\n",
       "    </tr>\n",
       "    <tr>\n",
       "      <th>4</th>\n",
       "      <td>1.0</td>\n",
       "      <td>0.0</td>\n",
       "      <td>0.0</td>\n",
       "      <td>83.320000</td>\n",
       "      <td>50.000000</td>\n",
       "      <td>23.33000</td>\n",
       "      <td>4202.733267</td>\n",
       "      <td>5.0</td>\n",
       "      <td>1585.286667</td>\n",
       "      <td>1198.666667</td>\n",
       "      <td>...</td>\n",
       "      <td>-0.795729</td>\n",
       "      <td>-0.510098</td>\n",
       "      <td>0.0</td>\n",
       "      <td>0.0</td>\n",
       "      <td>1.0</td>\n",
       "      <td>3143.648157</td>\n",
       "      <td>0.0</td>\n",
       "      <td>0.000000</td>\n",
       "      <td>49.990000</td>\n",
       "      <td>37070.996149</td>\n",
       "    </tr>\n",
       "  </tbody>\n",
       "</table>\n",
       "<p>5 rows × 28 columns</p>\n",
       "</div>"
      ],
      "text/plain": [
       "   churn  MB_Data_Usg_M04  MB_Data_Usg_M07  avg_arpu_3m   acct_age  \\\n",
       "0    0.0              0.0              0.0    44.980000  55.000000   \n",
       "1    0.0              0.0              0.0    44.989330  47.000000   \n",
       "2    0.0              0.0              0.0    51.775434  46.176471   \n",
       "3    0.0              0.0              0.0    51.775434  75.000000   \n",
       "4    1.0              0.0              0.0    83.320000  50.000000   \n",
       "\n",
       "   avg_data_chrgs_3m  mb_data_usg_m03  calls_TS_acct  calls_in_offpk  \\\n",
       "0            0.00000      1972.923588            2.0      236.346667   \n",
       "1           24.99333      3640.361179            0.0     1338.943333   \n",
       "2            8.32147      1763.400476            6.0      402.116667   \n",
       "3            8.32147      1094.372448            3.0        7.566667   \n",
       "4           23.33000      4202.733267            5.0     1585.286667   \n",
       "\n",
       "   calls_in_pk           ...             mou_onnet_pct_MOM mou_total_pct_MOM  \\\n",
       "0   126.000000           ...                     -0.359859         -0.008977   \n",
       "1   809.333333           ...                     -0.493587         -0.187233   \n",
       "2   212.666667           ...                     -0.730719          0.044034   \n",
       "3     1.000000           ...                     -1.000000         -1.000000   \n",
       "4  1198.666667           ...                     -0.795729         -0.510098   \n",
       "\n",
       "   res_calls_3mavg_acct  res_calls_6mavg_acct  times_delinq  tot_mb_data_curr  \\\n",
       "0                   0.0                   0.0           1.0        552.476771   \n",
       "1                   0.0                   0.0           1.0       6165.542121   \n",
       "2                   0.0                   0.0           1.0       1762.668283   \n",
       "3                   0.0                   0.0           1.0       1184.412701   \n",
       "4                   0.0                   0.0           1.0       3143.648157   \n",
       "\n",
       "   tot_mb_data_roam_curr  tot_overage_chgs  tot_voice_chrgs_curr  \\\n",
       "0                    0.0          0.000000             39.990000   \n",
       "1                    0.0         19.900000             15.996000   \n",
       "2                    0.0          1.103353             29.301982   \n",
       "3                    0.0          1.103353             29.301982   \n",
       "4                    0.0          0.000000             49.990000   \n",
       "\n",
       "   voice_tot_bill_mou_curr  \n",
       "0              2184.012768  \n",
       "1             34880.150043  \n",
       "2              5125.863130  \n",
       "3                53.515804  \n",
       "4             37070.996149  \n",
       "\n",
       "[5 rows x 28 columns]"
      ]
     },
     "execution_count": 19,
     "metadata": {},
     "output_type": "execute_result"
    }
   ],
   "source": [
    "df.head()"
   ]
  },
  {
   "cell_type": "code",
   "execution_count": 20,
   "metadata": {},
   "outputs": [
    {
     "data": {
      "text/html": [
       "<div>\n",
       "<style scoped>\n",
       "    .dataframe tbody tr th:only-of-type {\n",
       "        vertical-align: middle;\n",
       "    }\n",
       "\n",
       "    .dataframe tbody tr th {\n",
       "        vertical-align: top;\n",
       "    }\n",
       "\n",
       "    .dataframe thead th {\n",
       "        text-align: right;\n",
       "    }\n",
       "</style>\n",
       "<table border=\"1\" class=\"dataframe\">\n",
       "  <thead>\n",
       "    <tr style=\"text-align: right;\">\n",
       "      <th></th>\n",
       "      <th>count</th>\n",
       "      <th>mean</th>\n",
       "      <th>std</th>\n",
       "      <th>min</th>\n",
       "      <th>25%</th>\n",
       "      <th>50%</th>\n",
       "      <th>75%</th>\n",
       "      <th>max</th>\n",
       "    </tr>\n",
       "  </thead>\n",
       "  <tbody>\n",
       "    <tr>\n",
       "      <th>churn</th>\n",
       "      <td>26900.0</td>\n",
       "      <td>0.079703</td>\n",
       "      <td>0.270837</td>\n",
       "      <td>0.000000</td>\n",
       "      <td>0.000000</td>\n",
       "      <td>0.000000</td>\n",
       "      <td>0.000000</td>\n",
       "      <td>1.000000</td>\n",
       "    </tr>\n",
       "    <tr>\n",
       "      <th>MB_Data_Usg_M04</th>\n",
       "      <td>26900.0</td>\n",
       "      <td>120.387175</td>\n",
       "      <td>231.125193</td>\n",
       "      <td>0.000000</td>\n",
       "      <td>2.000000</td>\n",
       "      <td>57.000000</td>\n",
       "      <td>163.000000</td>\n",
       "      <td>14606.000000</td>\n",
       "    </tr>\n",
       "    <tr>\n",
       "      <th>MB_Data_Usg_M07</th>\n",
       "      <td>26900.0</td>\n",
       "      <td>93.973903</td>\n",
       "      <td>170.719256</td>\n",
       "      <td>0.000000</td>\n",
       "      <td>3.000000</td>\n",
       "      <td>39.000000</td>\n",
       "      <td>123.000000</td>\n",
       "      <td>13672.000000</td>\n",
       "    </tr>\n",
       "    <tr>\n",
       "      <th>avg_arpu_3m</th>\n",
       "      <td>26900.0</td>\n",
       "      <td>60.311599</td>\n",
       "      <td>22.940124</td>\n",
       "      <td>0.000000</td>\n",
       "      <td>49.990000</td>\n",
       "      <td>54.990000</td>\n",
       "      <td>73.375830</td>\n",
       "      <td>160.376185</td>\n",
       "    </tr>\n",
       "    <tr>\n",
       "      <th>acct_age</th>\n",
       "      <td>26900.0</td>\n",
       "      <td>45.319939</td>\n",
       "      <td>12.902449</td>\n",
       "      <td>18.000000</td>\n",
       "      <td>37.000000</td>\n",
       "      <td>46.176471</td>\n",
       "      <td>52.000000</td>\n",
       "      <td>139.000000</td>\n",
       "    </tr>\n",
       "    <tr>\n",
       "      <th>avg_data_chrgs_3m</th>\n",
       "      <td>26900.0</td>\n",
       "      <td>11.752392</td>\n",
       "      <td>13.932273</td>\n",
       "      <td>0.000000</td>\n",
       "      <td>0.200000</td>\n",
       "      <td>8.321470</td>\n",
       "      <td>19.990000</td>\n",
       "      <td>78.600570</td>\n",
       "    </tr>\n",
       "    <tr>\n",
       "      <th>mb_data_usg_m03</th>\n",
       "      <td>26900.0</td>\n",
       "      <td>1447.554081</td>\n",
       "      <td>1349.750886</td>\n",
       "      <td>-1621.000000</td>\n",
       "      <td>439.337515</td>\n",
       "      <td>1232.183361</td>\n",
       "      <td>2085.122909</td>\n",
       "      <td>40784.234266</td>\n",
       "    </tr>\n",
       "    <tr>\n",
       "      <th>calls_TS_acct</th>\n",
       "      <td>26900.0</td>\n",
       "      <td>5.229963</td>\n",
       "      <td>5.381492</td>\n",
       "      <td>0.000000</td>\n",
       "      <td>1.000000</td>\n",
       "      <td>4.000000</td>\n",
       "      <td>8.000000</td>\n",
       "      <td>80.000000</td>\n",
       "    </tr>\n",
       "    <tr>\n",
       "      <th>calls_in_offpk</th>\n",
       "      <td>26900.0</td>\n",
       "      <td>268.844564</td>\n",
       "      <td>279.015579</td>\n",
       "      <td>-497.670000</td>\n",
       "      <td>80.680000</td>\n",
       "      <td>214.790000</td>\n",
       "      <td>415.342500</td>\n",
       "      <td>4640.243333</td>\n",
       "    </tr>\n",
       "    <tr>\n",
       "      <th>calls_in_pk</th>\n",
       "      <td>26900.0</td>\n",
       "      <td>174.987546</td>\n",
       "      <td>181.961919</td>\n",
       "      <td>-397.000000</td>\n",
       "      <td>57.000000</td>\n",
       "      <td>146.000000</td>\n",
       "      <td>264.000000</td>\n",
       "      <td>3487.333333</td>\n",
       "    </tr>\n",
       "    <tr>\n",
       "      <th>count_of_suspensions_6m</th>\n",
       "      <td>26900.0</td>\n",
       "      <td>0.445507</td>\n",
       "      <td>0.947436</td>\n",
       "      <td>0.000000</td>\n",
       "      <td>0.000000</td>\n",
       "      <td>0.000000</td>\n",
       "      <td>0.276471</td>\n",
       "      <td>5.000000</td>\n",
       "    </tr>\n",
       "    <tr>\n",
       "      <th>data_usage_amt</th>\n",
       "      <td>26900.0</td>\n",
       "      <td>14.462156</td>\n",
       "      <td>15.678373</td>\n",
       "      <td>1.000000</td>\n",
       "      <td>3.000000</td>\n",
       "      <td>5.000000</td>\n",
       "      <td>22.000000</td>\n",
       "      <td>68.000000</td>\n",
       "    </tr>\n",
       "    <tr>\n",
       "      <th>ever_days_over_plan</th>\n",
       "      <td>26900.0</td>\n",
       "      <td>12.227695</td>\n",
       "      <td>14.329378</td>\n",
       "      <td>0.000000</td>\n",
       "      <td>0.000000</td>\n",
       "      <td>8.000000</td>\n",
       "      <td>20.000000</td>\n",
       "      <td>135.000000</td>\n",
       "    </tr>\n",
       "    <tr>\n",
       "      <th>ever_times_over_plan</th>\n",
       "      <td>26900.0</td>\n",
       "      <td>2.111041</td>\n",
       "      <td>2.244981</td>\n",
       "      <td>0.000000</td>\n",
       "      <td>0.000000</td>\n",
       "      <td>2.000000</td>\n",
       "      <td>3.000000</td>\n",
       "      <td>20.000000</td>\n",
       "    </tr>\n",
       "    <tr>\n",
       "      <th>lifetime_value</th>\n",
       "      <td>26900.0</td>\n",
       "      <td>3901.165843</td>\n",
       "      <td>3893.672233</td>\n",
       "      <td>-2148.700000</td>\n",
       "      <td>1099.450000</td>\n",
       "      <td>2592.500000</td>\n",
       "      <td>5960.975000</td>\n",
       "      <td>60740.200000</td>\n",
       "    </tr>\n",
       "    <tr>\n",
       "      <th>mb_data_usg_m02</th>\n",
       "      <td>26900.0</td>\n",
       "      <td>1451.853628</td>\n",
       "      <td>1342.113440</td>\n",
       "      <td>-1709.000000</td>\n",
       "      <td>433.734662</td>\n",
       "      <td>1231.754638</td>\n",
       "      <td>2089.923258</td>\n",
       "      <td>40761.340647</td>\n",
       "    </tr>\n",
       "    <tr>\n",
       "      <th>mou_onnet_6m_normal</th>\n",
       "      <td>26900.0</td>\n",
       "      <td>-0.089938</td>\n",
       "      <td>2.653053</td>\n",
       "      <td>-27.135463</td>\n",
       "      <td>-1.000000</td>\n",
       "      <td>0.000000</td>\n",
       "      <td>1.000000</td>\n",
       "      <td>72.011324</td>\n",
       "    </tr>\n",
       "    <tr>\n",
       "      <th>mou_onnet_pct_MOM</th>\n",
       "      <td>26900.0</td>\n",
       "      <td>-0.212633</td>\n",
       "      <td>4.022931</td>\n",
       "      <td>-45.000000</td>\n",
       "      <td>-1.000000</td>\n",
       "      <td>-0.142701</td>\n",
       "      <td>1.000000</td>\n",
       "      <td>124.727273</td>\n",
       "    </tr>\n",
       "    <tr>\n",
       "      <th>mou_total_pct_MOM</th>\n",
       "      <td>26900.0</td>\n",
       "      <td>0.012211</td>\n",
       "      <td>1.287141</td>\n",
       "      <td>-13.000000</td>\n",
       "      <td>-1.000000</td>\n",
       "      <td>0.000000</td>\n",
       "      <td>1.000000</td>\n",
       "      <td>24.410714</td>\n",
       "    </tr>\n",
       "    <tr>\n",
       "      <th>res_calls_3mavg_acct</th>\n",
       "      <td>26900.0</td>\n",
       "      <td>0.032668</td>\n",
       "      <td>0.120520</td>\n",
       "      <td>0.000000</td>\n",
       "      <td>0.000000</td>\n",
       "      <td>0.000000</td>\n",
       "      <td>0.000000</td>\n",
       "      <td>2.330000</td>\n",
       "    </tr>\n",
       "    <tr>\n",
       "      <th>res_calls_6mavg_acct</th>\n",
       "      <td>26900.0</td>\n",
       "      <td>0.028365</td>\n",
       "      <td>0.081269</td>\n",
       "      <td>0.000000</td>\n",
       "      <td>0.000000</td>\n",
       "      <td>0.000000</td>\n",
       "      <td>0.000000</td>\n",
       "      <td>1.314995</td>\n",
       "    </tr>\n",
       "    <tr>\n",
       "      <th>times_delinq</th>\n",
       "      <td>26900.0</td>\n",
       "      <td>0.441710</td>\n",
       "      <td>0.722710</td>\n",
       "      <td>0.000000</td>\n",
       "      <td>0.000000</td>\n",
       "      <td>0.000000</td>\n",
       "      <td>1.000000</td>\n",
       "      <td>6.000000</td>\n",
       "    </tr>\n",
       "    <tr>\n",
       "      <th>tot_mb_data_curr</th>\n",
       "      <td>26900.0</td>\n",
       "      <td>2019.512013</td>\n",
       "      <td>2134.364127</td>\n",
       "      <td>-2794.513624</td>\n",
       "      <td>925.215469</td>\n",
       "      <td>1559.126095</td>\n",
       "      <td>2482.169715</td>\n",
       "      <td>66288.069452</td>\n",
       "    </tr>\n",
       "    <tr>\n",
       "      <th>tot_mb_data_roam_curr</th>\n",
       "      <td>26900.0</td>\n",
       "      <td>425.491948</td>\n",
       "      <td>2735.801906</td>\n",
       "      <td>-26502.685199</td>\n",
       "      <td>0.000000</td>\n",
       "      <td>0.000000</td>\n",
       "      <td>590.893844</td>\n",
       "      <td>66288.069452</td>\n",
       "    </tr>\n",
       "    <tr>\n",
       "      <th>tot_overage_chgs</th>\n",
       "      <td>26900.0</td>\n",
       "      <td>1.663265</td>\n",
       "      <td>15.804672</td>\n",
       "      <td>0.000000</td>\n",
       "      <td>0.000000</td>\n",
       "      <td>0.000000</td>\n",
       "      <td>1.103353</td>\n",
       "      <td>1029.979683</td>\n",
       "    </tr>\n",
       "    <tr>\n",
       "      <th>tot_voice_chrgs_curr</th>\n",
       "      <td>26900.0</td>\n",
       "      <td>34.377286</td>\n",
       "      <td>11.806574</td>\n",
       "      <td>0.000000</td>\n",
       "      <td>26.663330</td>\n",
       "      <td>29.996660</td>\n",
       "      <td>44.990000</td>\n",
       "      <td>93.893508</td>\n",
       "    </tr>\n",
       "    <tr>\n",
       "      <th>voice_tot_bill_mou_curr</th>\n",
       "      <td>26900.0</td>\n",
       "      <td>4136.538763</td>\n",
       "      <td>4054.174889</td>\n",
       "      <td>-4545.304552</td>\n",
       "      <td>1410.348990</td>\n",
       "      <td>3069.856702</td>\n",
       "      <td>5825.683108</td>\n",
       "      <td>72726.564786</td>\n",
       "    </tr>\n",
       "  </tbody>\n",
       "</table>\n",
       "</div>"
      ],
      "text/plain": [
       "                           count         mean          std           min  \\\n",
       "churn                    26900.0     0.079703     0.270837      0.000000   \n",
       "MB_Data_Usg_M04          26900.0   120.387175   231.125193      0.000000   \n",
       "MB_Data_Usg_M07          26900.0    93.973903   170.719256      0.000000   \n",
       "avg_arpu_3m              26900.0    60.311599    22.940124      0.000000   \n",
       "acct_age                 26900.0    45.319939    12.902449     18.000000   \n",
       "avg_data_chrgs_3m        26900.0    11.752392    13.932273      0.000000   \n",
       "mb_data_usg_m03          26900.0  1447.554081  1349.750886  -1621.000000   \n",
       "calls_TS_acct            26900.0     5.229963     5.381492      0.000000   \n",
       "calls_in_offpk           26900.0   268.844564   279.015579   -497.670000   \n",
       "calls_in_pk              26900.0   174.987546   181.961919   -397.000000   \n",
       "count_of_suspensions_6m  26900.0     0.445507     0.947436      0.000000   \n",
       "data_usage_amt           26900.0    14.462156    15.678373      1.000000   \n",
       "ever_days_over_plan      26900.0    12.227695    14.329378      0.000000   \n",
       "ever_times_over_plan     26900.0     2.111041     2.244981      0.000000   \n",
       "lifetime_value           26900.0  3901.165843  3893.672233  -2148.700000   \n",
       "mb_data_usg_m02          26900.0  1451.853628  1342.113440  -1709.000000   \n",
       "mou_onnet_6m_normal      26900.0    -0.089938     2.653053    -27.135463   \n",
       "mou_onnet_pct_MOM        26900.0    -0.212633     4.022931    -45.000000   \n",
       "mou_total_pct_MOM        26900.0     0.012211     1.287141    -13.000000   \n",
       "res_calls_3mavg_acct     26900.0     0.032668     0.120520      0.000000   \n",
       "res_calls_6mavg_acct     26900.0     0.028365     0.081269      0.000000   \n",
       "times_delinq             26900.0     0.441710     0.722710      0.000000   \n",
       "tot_mb_data_curr         26900.0  2019.512013  2134.364127  -2794.513624   \n",
       "tot_mb_data_roam_curr    26900.0   425.491948  2735.801906 -26502.685199   \n",
       "tot_overage_chgs         26900.0     1.663265    15.804672      0.000000   \n",
       "tot_voice_chrgs_curr     26900.0    34.377286    11.806574      0.000000   \n",
       "voice_tot_bill_mou_curr  26900.0  4136.538763  4054.174889  -4545.304552   \n",
       "\n",
       "                                 25%          50%          75%           max  \n",
       "churn                       0.000000     0.000000     0.000000      1.000000  \n",
       "MB_Data_Usg_M04             2.000000    57.000000   163.000000  14606.000000  \n",
       "MB_Data_Usg_M07             3.000000    39.000000   123.000000  13672.000000  \n",
       "avg_arpu_3m                49.990000    54.990000    73.375830    160.376185  \n",
       "acct_age                   37.000000    46.176471    52.000000    139.000000  \n",
       "avg_data_chrgs_3m           0.200000     8.321470    19.990000     78.600570  \n",
       "mb_data_usg_m03           439.337515  1232.183361  2085.122909  40784.234266  \n",
       "calls_TS_acct               1.000000     4.000000     8.000000     80.000000  \n",
       "calls_in_offpk             80.680000   214.790000   415.342500   4640.243333  \n",
       "calls_in_pk                57.000000   146.000000   264.000000   3487.333333  \n",
       "count_of_suspensions_6m     0.000000     0.000000     0.276471      5.000000  \n",
       "data_usage_amt              3.000000     5.000000    22.000000     68.000000  \n",
       "ever_days_over_plan         0.000000     8.000000    20.000000    135.000000  \n",
       "ever_times_over_plan        0.000000     2.000000     3.000000     20.000000  \n",
       "lifetime_value           1099.450000  2592.500000  5960.975000  60740.200000  \n",
       "mb_data_usg_m02           433.734662  1231.754638  2089.923258  40761.340647  \n",
       "mou_onnet_6m_normal        -1.000000     0.000000     1.000000     72.011324  \n",
       "mou_onnet_pct_MOM          -1.000000    -0.142701     1.000000    124.727273  \n",
       "mou_total_pct_MOM          -1.000000     0.000000     1.000000     24.410714  \n",
       "res_calls_3mavg_acct        0.000000     0.000000     0.000000      2.330000  \n",
       "res_calls_6mavg_acct        0.000000     0.000000     0.000000      1.314995  \n",
       "times_delinq                0.000000     0.000000     1.000000      6.000000  \n",
       "tot_mb_data_curr          925.215469  1559.126095  2482.169715  66288.069452  \n",
       "tot_mb_data_roam_curr       0.000000     0.000000   590.893844  66288.069452  \n",
       "tot_overage_chgs            0.000000     0.000000     1.103353   1029.979683  \n",
       "tot_voice_chrgs_curr       26.663330    29.996660    44.990000     93.893508  \n",
       "voice_tot_bill_mou_curr  1410.348990  3069.856702  5825.683108  72726.564786  "
      ]
     },
     "execution_count": 20,
     "metadata": {},
     "output_type": "execute_result"
    }
   ],
   "source": [
    "df.describe().transpose()"
   ]
  },
  {
   "cell_type": "code",
   "execution_count": 21,
   "metadata": {},
   "outputs": [
    {
     "data": {
      "text/plain": [
       "0.0    18112\n",
       "1.0     6252\n",
       "2.0     2029\n",
       "3.0      460\n",
       "4.0       44\n",
       "5.0        2\n",
       "6.0        1\n",
       "Name: times_delinq, dtype: int64"
      ]
     },
     "execution_count": 21,
     "metadata": {},
     "output_type": "execute_result"
    }
   ],
   "source": [
    "df['times_delinq'].value_counts()"
   ]
  },
  {
   "cell_type": "code",
   "execution_count": 22,
   "metadata": {
    "scrolled": true
   },
   "outputs": [
    {
     "data": {
      "text/plain": [
       "<matplotlib.axes._subplots.AxesSubplot at 0x183bccf4f28>"
      ]
     },
     "execution_count": 22,
     "metadata": {},
     "output_type": "execute_result"
    },
    {
     "data": {
      "image/png": "[encoded data removed]",
      "text/plain": [
       "<Figure size 1440x720 with 1 Axes>"
      ]
     },
     "metadata": {
      "needs_background": "light"
     },
     "output_type": "display_data"
    }
   ],
   "source": [
    "df.groupby([\"credit_class\",\"churn\"]).size().unstack().plot(kind='bar',stacked=True, figsize=(20,10))"
   ]
  },
  {
   "cell_type": "code",
   "execution_count": 23,
   "metadata": {
    "scrolled": true
   },
   "outputs": [
    {
     "data": {
      "text/plain": [
       "<matplotlib.axes._subplots.AxesSubplot at 0x183bcf06e10>"
      ]
     },
     "execution_count": 23,
     "metadata": {},
     "output_type": "execute_result"
    },
    {
     "data": {
      "image/png": "[encoded data removed]",
      "text/plain": [
       "<Figure size 1440x720 with 1 Axes>"
      ]
     },
     "metadata": {
      "needs_background": "light"
     },
     "output_type": "display_data"
    }
   ],
   "source": [
    "df.groupby([\"times_delinq\",\"churn\"]).size().unstack().plot(kind='bar',stacked=True, figsize=(20,10))"
   ]
  },
  {
   "cell_type": "code",
   "execution_count": 24,
   "metadata": {
    "scrolled": true
   },
   "outputs": [
    {
     "name": "stderr",
     "output_type": "stream",
     "text": [
      "C:\\ProgramData\\Anaconda3\\lib\\site-packages\\scipy\\stats\\stats.py:1713: FutureWarning: Using a non-tuple sequence for multidimensional indexing is deprecated; use `arr[tuple(seq)]` instead of `arr[seq]`. In the future this will be interpreted as an array index, `arr[np.array(seq)]`, which will result either in an error or a different result.\n",
      "  return np.add.reduce(sorted[indexer] * weights, axis=axis) / sumval\n"
     ]
    },
    {
     "data": {
      "image/png": "[encoded data removed]",
      "text/plain": [
       "<Figure size 504x360 with 2 Axes>"
      ]
     },
     "metadata": {
      "needs_background": "light"
     },
     "output_type": "display_data"
    }
   ],
   "source": [
    "f, (ax1, ax2) = plt.subplots(2, 1, figsize=(7, 5), sharex=True)\n",
    "\n",
    "sns.barplot(x=df['churn'], y=df['tot_voice_chrgs_curr'], palette=\"rocket\",ax=ax1)\n",
    "ax1.axhline(0, color=\"k\", clip_on=False)\n",
    "ax1.set_ylabel(\"Voice_bill\")\n",
    "\n",
    "sns.barplot(x=df['churn'], y=df['voice_tot_bill_mou_curr'], palette=\"vlag\", ax=ax2)\n",
    "ax2.axhline(0, color=\"k\", clip_on=False)\n",
    "ax2.set_ylabel(\"Total_bill\")\n",
    "\n",
    "# Finalize the plot\n",
    "sns.despine(bottom=True)\n",
    "plt.setp(f.axes, yticks=[])\n",
    "plt.tight_layout(h_pad=2)"
   ]
  },
  {
   "cell_type": "code",
   "execution_count": 25,
   "metadata": {},
   "outputs": [],
   "source": [
    "df=pd.get_dummies(df,drop_first=True)"
   ]
  },
  {
   "cell_type": "code",
   "execution_count": 26,
   "metadata": {},
   "outputs": [
    {
     "data": {
      "text/plain": [
       "(26900, 31)"
      ]
     },
     "execution_count": 26,
     "metadata": {},
     "output_type": "execute_result"
    }
   ],
   "source": [
    "df.shape"
   ]
  },
  {
   "cell_type": "code",
   "execution_count": 27,
   "metadata": {},
   "outputs": [],
   "source": [
    "y=df['churn']"
   ]
  },
  {
   "cell_type": "code",
   "execution_count": 28,
   "metadata": {},
   "outputs": [
    {
     "data": {
      "text/plain": [
       "0.0    24756\n",
       "1.0     2144\n",
       "Name: churn, dtype: int64"
      ]
     },
     "execution_count": 28,
     "metadata": {},
     "output_type": "execute_result"
    }
   ],
   "source": [
    "y.value_counts()"
   ]
  },
  {
   "cell_type": "code",
   "execution_count": 29,
   "metadata": {},
   "outputs": [],
   "source": [
    "x=df.drop(\"churn\", axis=1)"
   ]
  },
  {
   "cell_type": "code",
   "execution_count": 30,
   "metadata": {},
   "outputs": [
    {
     "data": {
      "text/html": [
       "<div>\n",
       "<style scoped>\n",
       "    .dataframe tbody tr th:only-of-type {\n",
       "        vertical-align: middle;\n",
       "    }\n",
       "\n",
       "    .dataframe tbody tr th {\n",
       "        vertical-align: top;\n",
       "    }\n",
       "\n",
       "    .dataframe thead th {\n",
       "        text-align: right;\n",
       "    }\n",
       "</style>\n",
       "<table border=\"1\" class=\"dataframe\">\n",
       "  <thead>\n",
       "    <tr style=\"text-align: right;\">\n",
       "      <th></th>\n",
       "      <th>MB_Data_Usg_M04</th>\n",
       "      <th>MB_Data_Usg_M07</th>\n",
       "      <th>avg_arpu_3m</th>\n",
       "      <th>acct_age</th>\n",
       "      <th>avg_data_chrgs_3m</th>\n",
       "      <th>mb_data_usg_m03</th>\n",
       "      <th>calls_TS_acct</th>\n",
       "      <th>calls_in_offpk</th>\n",
       "      <th>calls_in_pk</th>\n",
       "      <th>count_of_suspensions_6m</th>\n",
       "      <th>...</th>\n",
       "      <th>times_delinq</th>\n",
       "      <th>tot_mb_data_curr</th>\n",
       "      <th>tot_mb_data_roam_curr</th>\n",
       "      <th>tot_overage_chgs</th>\n",
       "      <th>tot_voice_chrgs_curr</th>\n",
       "      <th>voice_tot_bill_mou_curr</th>\n",
       "      <th>credit_class_other</th>\n",
       "      <th>credit_class_prime</th>\n",
       "      <th>credit_class_risky</th>\n",
       "      <th>credit_class_smax prime</th>\n",
       "    </tr>\n",
       "  </thead>\n",
       "  <tbody>\n",
       "    <tr>\n",
       "      <th>0</th>\n",
       "      <td>0.0</td>\n",
       "      <td>0.0</td>\n",
       "      <td>44.980000</td>\n",
       "      <td>55.000000</td>\n",
       "      <td>0.00000</td>\n",
       "      <td>1972.923588</td>\n",
       "      <td>2.0</td>\n",
       "      <td>236.346667</td>\n",
       "      <td>126.000000</td>\n",
       "      <td>0.000000</td>\n",
       "      <td>...</td>\n",
       "      <td>1.0</td>\n",
       "      <td>552.476771</td>\n",
       "      <td>0.0</td>\n",
       "      <td>0.000000</td>\n",
       "      <td>39.990000</td>\n",
       "      <td>2184.012768</td>\n",
       "      <td>0</td>\n",
       "      <td>1</td>\n",
       "      <td>0</td>\n",
       "      <td>0</td>\n",
       "    </tr>\n",
       "    <tr>\n",
       "      <th>1</th>\n",
       "      <td>0.0</td>\n",
       "      <td>0.0</td>\n",
       "      <td>44.989330</td>\n",
       "      <td>47.000000</td>\n",
       "      <td>24.99333</td>\n",
       "      <td>3640.361179</td>\n",
       "      <td>0.0</td>\n",
       "      <td>1338.943333</td>\n",
       "      <td>809.333333</td>\n",
       "      <td>0.000000</td>\n",
       "      <td>...</td>\n",
       "      <td>1.0</td>\n",
       "      <td>6165.542121</td>\n",
       "      <td>0.0</td>\n",
       "      <td>19.900000</td>\n",
       "      <td>15.996000</td>\n",
       "      <td>34880.150043</td>\n",
       "      <td>0</td>\n",
       "      <td>1</td>\n",
       "      <td>0</td>\n",
       "      <td>0</td>\n",
       "    </tr>\n",
       "    <tr>\n",
       "      <th>2</th>\n",
       "      <td>0.0</td>\n",
       "      <td>0.0</td>\n",
       "      <td>51.775434</td>\n",
       "      <td>46.176471</td>\n",
       "      <td>8.32147</td>\n",
       "      <td>1763.400476</td>\n",
       "      <td>6.0</td>\n",
       "      <td>402.116667</td>\n",
       "      <td>212.666667</td>\n",
       "      <td>0.276471</td>\n",
       "      <td>...</td>\n",
       "      <td>1.0</td>\n",
       "      <td>1762.668283</td>\n",
       "      <td>0.0</td>\n",
       "      <td>1.103353</td>\n",
       "      <td>29.301982</td>\n",
       "      <td>5125.863130</td>\n",
       "      <td>0</td>\n",
       "      <td>1</td>\n",
       "      <td>0</td>\n",
       "      <td>0</td>\n",
       "    </tr>\n",
       "    <tr>\n",
       "      <th>3</th>\n",
       "      <td>0.0</td>\n",
       "      <td>0.0</td>\n",
       "      <td>51.775434</td>\n",
       "      <td>75.000000</td>\n",
       "      <td>8.32147</td>\n",
       "      <td>1094.372448</td>\n",
       "      <td>3.0</td>\n",
       "      <td>7.566667</td>\n",
       "      <td>1.000000</td>\n",
       "      <td>0.276471</td>\n",
       "      <td>...</td>\n",
       "      <td>1.0</td>\n",
       "      <td>1184.412701</td>\n",
       "      <td>0.0</td>\n",
       "      <td>1.103353</td>\n",
       "      <td>29.301982</td>\n",
       "      <td>53.515804</td>\n",
       "      <td>0</td>\n",
       "      <td>1</td>\n",
       "      <td>0</td>\n",
       "      <td>0</td>\n",
       "    </tr>\n",
       "    <tr>\n",
       "      <th>4</th>\n",
       "      <td>0.0</td>\n",
       "      <td>0.0</td>\n",
       "      <td>83.320000</td>\n",
       "      <td>50.000000</td>\n",
       "      <td>23.33000</td>\n",
       "      <td>4202.733267</td>\n",
       "      <td>5.0</td>\n",
       "      <td>1585.286667</td>\n",
       "      <td>1198.666667</td>\n",
       "      <td>0.000000</td>\n",
       "      <td>...</td>\n",
       "      <td>1.0</td>\n",
       "      <td>3143.648157</td>\n",
       "      <td>0.0</td>\n",
       "      <td>0.000000</td>\n",
       "      <td>49.990000</td>\n",
       "      <td>37070.996149</td>\n",
       "      <td>0</td>\n",
       "      <td>1</td>\n",
       "      <td>0</td>\n",
       "      <td>0</td>\n",
       "    </tr>\n",
       "  </tbody>\n",
       "</table>\n",
       "<p>5 rows × 30 columns</p>\n",
       "</div>"
      ],
      "text/plain": [
       "   MB_Data_Usg_M04  MB_Data_Usg_M07  avg_arpu_3m   acct_age  \\\n",
       "0              0.0              0.0    44.980000  55.000000   \n",
       "1              0.0              0.0    44.989330  47.000000   \n",
       "2              0.0              0.0    51.775434  46.176471   \n",
       "3              0.0              0.0    51.775434  75.000000   \n",
       "4              0.0              0.0    83.320000  50.000000   \n",
       "\n",
       "   avg_data_chrgs_3m  mb_data_usg_m03  calls_TS_acct  calls_in_offpk  \\\n",
       "0            0.00000      1972.923588            2.0      236.346667   \n",
       "1           24.99333      3640.361179            0.0     1338.943333   \n",
       "2            8.32147      1763.400476            6.0      402.116667   \n",
       "3            8.32147      1094.372448            3.0        7.566667   \n",
       "4           23.33000      4202.733267            5.0     1585.286667   \n",
       "\n",
       "   calls_in_pk  count_of_suspensions_6m           ...             \\\n",
       "0   126.000000                 0.000000           ...              \n",
       "1   809.333333                 0.000000           ...              \n",
       "2   212.666667                 0.276471           ...              \n",
       "3     1.000000                 0.276471           ...              \n",
       "4  1198.666667                 0.000000           ...              \n",
       "\n",
       "   times_delinq  tot_mb_data_curr  tot_mb_data_roam_curr  tot_overage_chgs  \\\n",
       "0           1.0        552.476771                    0.0          0.000000   \n",
       "1           1.0       6165.542121                    0.0         19.900000   \n",
       "2           1.0       1762.668283                    0.0          1.103353   \n",
       "3           1.0       1184.412701                    0.0          1.103353   \n",
       "4           1.0       3143.648157                    0.0          0.000000   \n",
       "\n",
       "   tot_voice_chrgs_curr  voice_tot_bill_mou_curr  credit_class_other  \\\n",
       "0             39.990000              2184.012768                   0   \n",
       "1             15.996000             34880.150043                   0   \n",
       "2             29.301982              5125.863130                   0   \n",
       "3             29.301982                53.515804                   0   \n",
       "4             49.990000             37070.996149                   0   \n",
       "\n",
       "   credit_class_prime  credit_class_risky  credit_class_smax prime  \n",
       "0                   1                   0                        0  \n",
       "1                   1                   0                        0  \n",
       "2                   1                   0                        0  \n",
       "3                   1                   0                        0  \n",
       "4                   1                   0                        0  \n",
       "\n",
       "[5 rows x 30 columns]"
      ]
     },
     "execution_count": 30,
     "metadata": {},
     "output_type": "execute_result"
    }
   ],
   "source": [
    "x.head()"
   ]
  },
  {
   "cell_type": "code",
   "execution_count": 31,
   "metadata": {},
   "outputs": [],
   "source": [
    "x_train, x_test, y_train, y_test = train_test_split(x, y, test_size=0.30, random_state=100)"
   ]
  },
  {
   "cell_type": "code",
   "execution_count": 32,
   "metadata": {},
   "outputs": [
    {
     "data": {
      "text/plain": [
       "((18830, 30), (8070, 30))"
      ]
     },
     "execution_count": 32,
     "metadata": {},
     "output_type": "execute_result"
    }
   ],
   "source": [
    "x_train.shape, x_test.shape"
   ]
  },
  {
   "cell_type": "code",
   "execution_count": 33,
   "metadata": {},
   "outputs": [
    {
     "data": {
      "text/plain": [
       "((18830,), (8070,))"
      ]
     },
     "execution_count": 33,
     "metadata": {},
     "output_type": "execute_result"
    }
   ],
   "source": [
    "y_train.shape, y_test.shape"
   ]
  },
  {
   "cell_type": "code",
   "execution_count": 34,
   "metadata": {},
   "outputs": [
    {
     "data": {
      "text/plain": [
       "MB_Data_Usg_M04            float64\n",
       "MB_Data_Usg_M07            float64\n",
       "avg_arpu_3m                float64\n",
       "acct_age                   float64\n",
       "avg_data_chrgs_3m          float64\n",
       "mb_data_usg_m03            float64\n",
       "calls_TS_acct              float64\n",
       "calls_in_offpk             float64\n",
       "calls_in_pk                float64\n",
       "count_of_suspensions_6m    float64\n",
       "data_usage_amt             float64\n",
       "ever_days_over_plan        float64\n",
       "ever_times_over_plan       float64\n",
       "lifetime_value             float64\n",
       "mb_data_usg_m02            float64\n",
       "mou_onnet_6m_normal        float64\n",
       "mou_onnet_pct_MOM          float64\n",
       "mou_total_pct_MOM          float64\n",
       "res_calls_3mavg_acct       float64\n",
       "res_calls_6mavg_acct       float64\n",
       "times_delinq               float64\n",
       "tot_mb_data_curr           float64\n",
       "tot_mb_data_roam_curr      float64\n",
       "tot_overage_chgs           float64\n",
       "tot_voice_chrgs_curr       float64\n",
       "voice_tot_bill_mou_curr    float64\n",
       "credit_class_other           uint8\n",
       "credit_class_prime           uint8\n",
       "credit_class_risky           uint8\n",
       "credit_class_smax prime      uint8\n",
       "dtype: object"
      ]
     },
     "execution_count": 34,
     "metadata": {},
     "output_type": "execute_result"
    }
   ],
   "source": [
    "x.dtypes"
   ]
  },
  {
   "cell_type": "markdown",
   "metadata": {},
   "source": [
    "# Logistic regression\n"
   ]
  },
  {
   "cell_type": "code",
   "execution_count": 35,
   "metadata": {},
   "outputs": [
    {
     "name": "stderr",
     "output_type": "stream",
     "text": [
      "C:\\ProgramData\\Anaconda3\\lib\\site-packages\\sklearn\\linear_model\\logistic.py:433: FutureWarning: Default solver will be changed to 'lbfgs' in 0.22. Specify a solver to silence this warning.\n",
      "  FutureWarning)\n"
     ]
    },
    {
     "data": {
      "text/plain": [
       "LogisticRegression(C=1.0, class_weight=None, dual=False, fit_intercept=True,\n",
       "          intercept_scaling=1, max_iter=100, multi_class='warn',\n",
       "          n_jobs=None, penalty='l2', random_state=None, solver='warn',\n",
       "          tol=0.0001, verbose=0, warm_start=False)"
      ]
     },
     "execution_count": 35,
     "metadata": {},
     "output_type": "execute_result"
    }
   ],
   "source": [
    "clf_LR = LogisticRegression()\n",
    "clf_LR.fit(x_train, y_train)"
   ]
  },
  {
   "cell_type": "code",
   "execution_count": 36,
   "metadata": {},
   "outputs": [],
   "source": [
    "y_pred_LR_Train = clf_LR.predict(x_train)\n",
    "y_pred_LR_Test = clf_LR.predict(x_test)"
   ]
  },
  {
   "cell_type": "code",
   "execution_count": 37,
   "metadata": {},
   "outputs": [],
   "source": [
    "y_pred_LR_Train = pd.DataFrame({'LR_Predictions':y_pred_LR_Train})\n",
    "y_pred_LR_Test = pd.DataFrame({'LR_Predictions':y_pred_LR_Test})"
   ]
  },
  {
   "cell_type": "code",
   "execution_count": 38,
   "metadata": {},
   "outputs": [
    {
     "data": {
      "text/plain": [
       "0.0    8042\n",
       "1.0      28\n",
       "Name: LR_Predictions, dtype: int64"
      ]
     },
     "execution_count": 38,
     "metadata": {},
     "output_type": "execute_result"
    }
   ],
   "source": [
    "y_pred_LR_Test.LR_Predictions.value_counts()"
   ]
  },
  {
   "cell_type": "code",
   "execution_count": 39,
   "metadata": {},
   "outputs": [],
   "source": [
    "y_test=pd.DataFrame({'actual':y_test})"
   ]
  },
  {
   "cell_type": "code",
   "execution_count": 40,
   "metadata": {},
   "outputs": [
    {
     "data": {
      "text/html": [
       "<div>\n",
       "<style scoped>\n",
       "    .dataframe tbody tr th:only-of-type {\n",
       "        vertical-align: middle;\n",
       "    }\n",
       "\n",
       "    .dataframe tbody tr th {\n",
       "        vertical-align: top;\n",
       "    }\n",
       "\n",
       "    .dataframe thead th {\n",
       "        text-align: right;\n",
       "    }\n",
       "</style>\n",
       "<table border=\"1\" class=\"dataframe\">\n",
       "  <thead>\n",
       "    <tr style=\"text-align: right;\">\n",
       "      <th></th>\n",
       "      <th>actual</th>\n",
       "    </tr>\n",
       "  </thead>\n",
       "  <tbody>\n",
       "    <tr>\n",
       "      <th>52537</th>\n",
       "      <td>0.0</td>\n",
       "    </tr>\n",
       "    <tr>\n",
       "      <th>52923</th>\n",
       "      <td>0.0</td>\n",
       "    </tr>\n",
       "    <tr>\n",
       "      <th>20911</th>\n",
       "      <td>0.0</td>\n",
       "    </tr>\n",
       "    <tr>\n",
       "      <th>5526</th>\n",
       "      <td>0.0</td>\n",
       "    </tr>\n",
       "    <tr>\n",
       "      <th>45934</th>\n",
       "      <td>0.0</td>\n",
       "    </tr>\n",
       "  </tbody>\n",
       "</table>\n",
       "</div>"
      ],
      "text/plain": [
       "       actual\n",
       "52537     0.0\n",
       "52923     0.0\n",
       "20911     0.0\n",
       "5526      0.0\n",
       "45934     0.0"
      ]
     },
     "execution_count": 40,
     "metadata": {},
     "output_type": "execute_result"
    }
   ],
   "source": [
    "y_test.head()"
   ]
  },
  {
   "cell_type": "code",
   "execution_count": 41,
   "metadata": {},
   "outputs": [],
   "source": [
    "from sklearn.metrics import classification_report, confusion_matrix"
   ]
  },
  {
   "cell_type": "code",
   "execution_count": 42,
   "metadata": {},
   "outputs": [
    {
     "name": "stdout",
     "output_type": "stream",
     "text": [
      "[[7446    5]\n",
      " [ 596   23]]\n"
     ]
    }
   ],
   "source": [
    "print(confusion_matrix (y_test,y_pred_LR_Test))"
   ]
  },
  {
   "cell_type": "code",
   "execution_count": 43,
   "metadata": {},
   "outputs": [
    {
     "name": "stdout",
     "output_type": "stream",
     "text": [
      "              precision    recall  f1-score   support\n",
      "\n",
      "         0.0       0.93      1.00      0.96      7451\n",
      "         1.0       0.82      0.04      0.07       619\n",
      "\n",
      "   micro avg       0.93      0.93      0.93      8070\n",
      "   macro avg       0.87      0.52      0.52      8070\n",
      "weighted avg       0.92      0.93      0.89      8070\n",
      "\n"
     ]
    }
   ],
   "source": [
    "print(classification_report(y_test,y_pred_LR_Test))"
   ]
  },
  {
   "cell_type": "markdown",
   "metadata": {},
   "source": [
    "# Gradient Boosting\n"
   ]
  },
  {
   "cell_type": "code",
   "execution_count": 44,
   "metadata": {},
   "outputs": [
    {
     "data": {
      "text/plain": [
       "GradientBoostingClassifier(criterion='friedman_mse', init=None,\n",
       "              learning_rate=0.01, loss='deviance', max_depth=3,\n",
       "              max_features=None, max_leaf_nodes=None,\n",
       "              min_impurity_decrease=0.0, min_impurity_split=None,\n",
       "              min_samples_leaf=1, min_samples_split=2,\n",
       "              min_weight_fraction_leaf=0.0, n_estimators=5,\n",
       "              n_iter_no_change=None, presort='auto', random_state=1,\n",
       "              subsample=1.0, tol=0.0001, validation_fraction=0.1,\n",
       "              verbose=0, warm_start=False)"
      ]
     },
     "execution_count": 44,
     "metadata": {},
     "output_type": "execute_result"
    }
   ],
   "source": [
    "clf_GBM= GradientBoostingClassifier(learning_rate=0.01,random_state=1, n_estimators=5)\n",
    "clf_GBM.fit(x_train, y_train)"
   ]
  },
  {
   "cell_type": "code",
   "execution_count": 45,
   "metadata": {},
   "outputs": [],
   "source": [
    "# use the model to make predictions with the test data\n",
    "y_pred_GBM_Train = clf_GBM.predict(x_train)\n",
    "y_pred_GBM_Test = clf_GBM.predict(x_test)"
   ]
  },
  {
   "cell_type": "code",
   "execution_count": 46,
   "metadata": {},
   "outputs": [],
   "source": [
    "y_pred_GBM_Train = pd.DataFrame({'GBM_Predictions':y_pred_GBM_Train})\n",
    "y_pred_GBM_Test = pd.DataFrame({'GBM_Predictions':y_pred_GBM_Test})"
   ]
  },
  {
   "cell_type": "code",
   "execution_count": 47,
   "metadata": {},
   "outputs": [
    {
     "name": "stdout",
     "output_type": "stream",
     "text": [
      "[[7451    0]\n",
      " [ 619    0]]\n"
     ]
    }
   ],
   "source": [
    "print(confusion_matrix (y_test,y_pred_GBM_Test))"
   ]
  },
  {
   "cell_type": "code",
   "execution_count": 48,
   "metadata": {},
   "outputs": [
    {
     "name": "stdout",
     "output_type": "stream",
     "text": [
      "              precision    recall  f1-score   support\n",
      "\n",
      "         0.0       0.92      1.00      0.96      7451\n",
      "         1.0       0.00      0.00      0.00       619\n",
      "\n",
      "   micro avg       0.92      0.92      0.92      8070\n",
      "   macro avg       0.46      0.50      0.48      8070\n",
      "weighted avg       0.85      0.92      0.89      8070\n",
      "\n"
     ]
    },
    {
     "name": "stderr",
     "output_type": "stream",
     "text": [
      "C:\\ProgramData\\Anaconda3\\lib\\site-packages\\sklearn\\metrics\\classification.py:1143: UndefinedMetricWarning: Precision and F-score are ill-defined and being set to 0.0 in labels with no predicted samples.\n",
      "  'precision', 'predicted', average, warn_for)\n",
      "C:\\ProgramData\\Anaconda3\\lib\\site-packages\\sklearn\\metrics\\classification.py:1143: UndefinedMetricWarning: Precision and F-score are ill-defined and being set to 0.0 in labels with no predicted samples.\n",
      "  'precision', 'predicted', average, warn_for)\n",
      "C:\\ProgramData\\Anaconda3\\lib\\site-packages\\sklearn\\metrics\\classification.py:1143: UndefinedMetricWarning: Precision and F-score are ill-defined and being set to 0.0 in labels with no predicted samples.\n",
      "  'precision', 'predicted', average, warn_for)\n"
     ]
    }
   ],
   "source": [
    "print(classification_report(y_test,y_pred_GBM_Test) )"
   ]
  },
  {
   "cell_type": "markdown",
   "metadata": {},
   "source": [
    "# XG BOOST"
   ]
  },
  {
   "cell_type": "code",
   "execution_count": 49,
   "metadata": {},
   "outputs": [
    {
     "name": "stderr",
     "output_type": "stream",
     "text": [
      "C:\\ProgramData\\Anaconda3\\lib\\site-packages\\xgboost\\sklearn.py:888: UserWarning: The use of label encoder in XGBClassifier is deprecated and will be removed in a future release. To remove this warning, do the following: 1) Pass option use_label_encoder=False when constructing XGBClassifier object; and 2) Encode your labels (y) as integers starting with 0, i.e. 0, 1, 2, ..., [num_class - 1].\n",
      "  warnings.warn(label_encoder_deprecation_msg, UserWarning)\n"
     ]
    },
    {
     "name": "stdout",
     "output_type": "stream",
     "text": [
      "[14:55:17] WARNING: C:/Users/Administrator/workspace/xgboost-win64_release_1.3.0/src/learner.cc:1061: Starting in XGBoost 1.3.0, the default evaluation metric used with the objective 'binary:logistic' was changed from 'error' to 'logloss'. Explicitly set eval_metric if you'd like to restore the old behavior.\n"
     ]
    },
    {
     "data": {
      "text/plain": [
       "XGBClassifier(base_score=0.5, booster='gbtree', colsample_bylevel=1,\n",
       "       colsample_bynode=1, colsample_bytree=1, gamma=0, gpu_id=-1,\n",
       "       importance_type='gain', interaction_constraints='',\n",
       "       learning_rate=0.01, max_delta_step=0, max_depth=6,\n",
       "       min_child_weight=1, missing=nan, monotone_constraints='()',\n",
       "       n_estimators=100, n_jobs=8, num_parallel_tree=1,\n",
       "       objective='binary:logistic', random_state=1, reg_alpha=0,\n",
       "       reg_lambda=1, scale_pos_weight=1, subsample=1, tree_method='exact',\n",
       "       use_label_encoder=True, validate_parameters=1, verbosity=None)"
      ]
     },
     "execution_count": 49,
     "metadata": {},
     "output_type": "execute_result"
    }
   ],
   "source": [
    "clf_XGB= XGBClassifier(random_state=1,learning_rate=0.01)\n",
    "clf_XGB.fit(x_train, y_train)"
   ]
  },
  {
   "cell_type": "code",
   "execution_count": 50,
   "metadata": {},
   "outputs": [],
   "source": [
    "# use the model to make predictions with the test data\n",
    "y_pred_XGB_Train = clf_XGB.predict(x_train)\n",
    "y_pred_XGB_Test = clf_XGB.predict(x_test)"
   ]
  },
  {
   "cell_type": "code",
   "execution_count": 51,
   "metadata": {},
   "outputs": [],
   "source": [
    "y_pred_XGB_Train = pd.DataFrame({'XGB_Predictions':y_pred_XGB_Train})\n",
    "y_pred_XGB_Test = pd.DataFrame({'XGB_Predictions':y_pred_XGB_Test})"
   ]
  },
  {
   "cell_type": "code",
   "execution_count": 52,
   "metadata": {},
   "outputs": [
    {
     "name": "stdout",
     "output_type": "stream",
     "text": [
      "[[7416   35]\n",
      " [ 457  162]]\n"
     ]
    }
   ],
   "source": [
    "print(confusion_matrix (y_test,y_pred_XGB_Test))"
   ]
  },
  {
   "cell_type": "code",
   "execution_count": 53,
   "metadata": {},
   "outputs": [
    {
     "name": "stdout",
     "output_type": "stream",
     "text": [
      "              precision    recall  f1-score   support\n",
      "\n",
      "         0.0       0.94      1.00      0.97      7451\n",
      "         1.0       0.82      0.26      0.40       619\n",
      "\n",
      "   micro avg       0.94      0.94      0.94      8070\n",
      "   macro avg       0.88      0.63      0.68      8070\n",
      "weighted avg       0.93      0.94      0.92      8070\n",
      "\n"
     ]
    }
   ],
   "source": [
    "print(classification_report(y_test,y_pred_XGB_Test) )"
   ]
  },
  {
   "cell_type": "markdown",
   "metadata": {},
   "source": [
    "# Decision Tree"
   ]
  },
  {
   "cell_type": "code",
   "execution_count": 54,
   "metadata": {},
   "outputs": [
    {
     "data": {
      "text/plain": [
       "DecisionTreeClassifier(class_weight=None, criterion='entropy', max_depth=4,\n",
       "            max_features=None, max_leaf_nodes=None,\n",
       "            min_impurity_decrease=0.0, min_impurity_split=None,\n",
       "            min_samples_leaf=1, min_samples_split=2,\n",
       "            min_weight_fraction_leaf=0.0, presort=False, random_state=0,\n",
       "            splitter='best')"
      ]
     },
     "execution_count": 54,
     "metadata": {},
     "output_type": "execute_result"
    }
   ],
   "source": [
    "clf_DT= tree.DecisionTreeClassifier(criterion='entropy', max_depth=4, random_state=0) #  length of the longest path from the tree root to a leaf.\n",
    "clf_DT.fit(x_train, y_train)"
   ]
  },
  {
   "cell_type": "code",
   "execution_count": 55,
   "metadata": {},
   "outputs": [],
   "source": [
    "# use the model to make predictions with the test data\n",
    "y_pred_DT_Train = clf_DT.predict(x_train)\n",
    "y_pred_DT_Test = clf_DT.predict(x_test)"
   ]
  },
  {
   "cell_type": "code",
   "execution_count": 56,
   "metadata": {},
   "outputs": [],
   "source": [
    "y_pred_DT_Train = pd.DataFrame({'DT_Predictions':y_pred_DT_Train})\n",
    "y_pred_DT_Test = pd.DataFrame({'DT_Predictions':y_pred_DT_Test})"
   ]
  },
  {
   "cell_type": "code",
   "execution_count": 57,
   "metadata": {},
   "outputs": [
    {
     "data": {
      "text/plain": [
       "0.0    7937\n",
       "1.0     133\n",
       "Name: DT_Predictions, dtype: int64"
      ]
     },
     "execution_count": 57,
     "metadata": {},
     "output_type": "execute_result"
    }
   ],
   "source": [
    "y_pred_DT_Test['DT_Predictions'].value_counts()"
   ]
  },
  {
   "cell_type": "code",
   "execution_count": 58,
   "metadata": {},
   "outputs": [
    {
     "name": "stdout",
     "output_type": "stream",
     "text": [
      "[[7430   21]\n",
      " [ 507  112]]\n"
     ]
    }
   ],
   "source": [
    "print(confusion_matrix (y_test,y_pred_DT_Test))"
   ]
  },
  {
   "cell_type": "code",
   "execution_count": 59,
   "metadata": {},
   "outputs": [
    {
     "name": "stdout",
     "output_type": "stream",
     "text": [
      "              precision    recall  f1-score   support\n",
      "\n",
      "         0.0       0.94      1.00      0.97      7451\n",
      "         1.0       0.84      0.18      0.30       619\n",
      "\n",
      "   micro avg       0.93      0.93      0.93      8070\n",
      "   macro avg       0.89      0.59      0.63      8070\n",
      "weighted avg       0.93      0.93      0.91      8070\n",
      "\n"
     ]
    }
   ],
   "source": [
    "print(classification_report(y_test,y_pred_DT_Test) )"
   ]
  },
  {
   "cell_type": "markdown",
   "metadata": {},
   "source": [
    "# Random forest\n"
   ]
  },
  {
   "cell_type": "code",
   "execution_count": 60,
   "metadata": {},
   "outputs": [
    {
     "data": {
      "text/plain": [
       "RandomForestClassifier(bootstrap=True, class_weight=None, criterion='gini',\n",
       "            max_depth=None, max_features=4, max_leaf_nodes=None,\n",
       "            min_impurity_decrease=0.0, min_impurity_split=None,\n",
       "            min_samples_leaf=1, min_samples_split=2,\n",
       "            min_weight_fraction_leaf=0.0, n_estimators=50, n_jobs=None,\n",
       "            oob_score=False, random_state=42, verbose=0, warm_start=False)"
      ]
     },
     "execution_count": 60,
     "metadata": {},
     "output_type": "execute_result"
    }
   ],
   "source": [
    "clf_RF=RandomForestClassifier(n_estimators=50, random_state=42, max_features=4) # 1000= decision trees, 4=features\n",
    "clf_RF.fit(x_train, y_train)"
   ]
  },
  {
   "cell_type": "code",
   "execution_count": 61,
   "metadata": {},
   "outputs": [],
   "source": [
    "#clf_RF.predict_proba(x_test)"
   ]
  },
  {
   "cell_type": "code",
   "execution_count": 62,
   "metadata": {},
   "outputs": [],
   "source": [
    "# use the model to make predictions with the test data\n",
    "y_pred_RF_Train = clf_RF.predict(x_train)\n",
    "y_pred_RF_Test = clf_RF.predict(x_test)"
   ]
  },
  {
   "cell_type": "code",
   "execution_count": 63,
   "metadata": {},
   "outputs": [],
   "source": [
    "y_pred_RF_Train = pd.DataFrame({'RF_Predictions':y_pred_RF_Train})\n",
    "y_pred_RF_Test = pd.DataFrame({'RF_Predictions':y_pred_RF_Test})"
   ]
  },
  {
   "cell_type": "code",
   "execution_count": 64,
   "metadata": {},
   "outputs": [
    {
     "name": "stdout",
     "output_type": "stream",
     "text": [
      "[[7437   14]\n",
      " [ 468  151]]\n"
     ]
    }
   ],
   "source": [
    "print(confusion_matrix (y_test,y_pred_RF_Test))"
   ]
  },
  {
   "cell_type": "code",
   "execution_count": 65,
   "metadata": {},
   "outputs": [
    {
     "name": "stdout",
     "output_type": "stream",
     "text": [
      "              precision    recall  f1-score   support\n",
      "\n",
      "         0.0       0.94      1.00      0.97      7451\n",
      "         1.0       0.92      0.24      0.39       619\n",
      "\n",
      "   micro avg       0.94      0.94      0.94      8070\n",
      "   macro avg       0.93      0.62      0.68      8070\n",
      "weighted avg       0.94      0.94      0.92      8070\n",
      "\n"
     ]
    }
   ],
   "source": [
    "print(classification_report(y_test,y_pred_RF_Test) )"
   ]
  },
  {
   "cell_type": "markdown",
   "metadata": {},
   "source": [
    "# Combine all the Dataframes for final model building for both Train and Test"
   ]
  },
  {
   "cell_type": "code",
   "execution_count": 66,
   "metadata": {},
   "outputs": [],
   "source": [
    "frames1 = [ y_pred_DT_Train , y_pred_RF_Train, y_pred_XGB_Train, y_pred_LR_Train]\n",
    "x_train_final = pd.concat(frames1, axis =1)"
   ]
  },
  {
   "cell_type": "code",
   "execution_count": 67,
   "metadata": {},
   "outputs": [
    {
     "data": {
      "text/html": [
       "<div>\n",
       "<style scoped>\n",
       "    .dataframe tbody tr th:only-of-type {\n",
       "        vertical-align: middle;\n",
       "    }\n",
       "\n",
       "    .dataframe tbody tr th {\n",
       "        vertical-align: top;\n",
       "    }\n",
       "\n",
       "    .dataframe thead th {\n",
       "        text-align: right;\n",
       "    }\n",
       "</style>\n",
       "<table border=\"1\" class=\"dataframe\">\n",
       "  <thead>\n",
       "    <tr style=\"text-align: right;\">\n",
       "      <th></th>\n",
       "      <th>DT_Predictions</th>\n",
       "      <th>RF_Predictions</th>\n",
       "      <th>XGB_Predictions</th>\n",
       "      <th>LR_Predictions</th>\n",
       "    </tr>\n",
       "  </thead>\n",
       "  <tbody>\n",
       "    <tr>\n",
       "      <th>0</th>\n",
       "      <td>0.0</td>\n",
       "      <td>0.0</td>\n",
       "      <td>0.0</td>\n",
       "      <td>0.0</td>\n",
       "    </tr>\n",
       "    <tr>\n",
       "      <th>1</th>\n",
       "      <td>0.0</td>\n",
       "      <td>0.0</td>\n",
       "      <td>0.0</td>\n",
       "      <td>0.0</td>\n",
       "    </tr>\n",
       "    <tr>\n",
       "      <th>2</th>\n",
       "      <td>0.0</td>\n",
       "      <td>0.0</td>\n",
       "      <td>0.0</td>\n",
       "      <td>0.0</td>\n",
       "    </tr>\n",
       "    <tr>\n",
       "      <th>3</th>\n",
       "      <td>0.0</td>\n",
       "      <td>0.0</td>\n",
       "      <td>0.0</td>\n",
       "      <td>0.0</td>\n",
       "    </tr>\n",
       "    <tr>\n",
       "      <th>4</th>\n",
       "      <td>0.0</td>\n",
       "      <td>0.0</td>\n",
       "      <td>0.0</td>\n",
       "      <td>0.0</td>\n",
       "    </tr>\n",
       "  </tbody>\n",
       "</table>\n",
       "</div>"
      ],
      "text/plain": [
       "   DT_Predictions  RF_Predictions  XGB_Predictions  LR_Predictions\n",
       "0             0.0             0.0              0.0             0.0\n",
       "1             0.0             0.0              0.0             0.0\n",
       "2             0.0             0.0              0.0             0.0\n",
       "3             0.0             0.0              0.0             0.0\n",
       "4             0.0             0.0              0.0             0.0"
      ]
     },
     "execution_count": 67,
     "metadata": {},
     "output_type": "execute_result"
    }
   ],
   "source": [
    "x_train_final.head(5)"
   ]
  },
  {
   "cell_type": "code",
   "execution_count": 68,
   "metadata": {},
   "outputs": [
    {
     "name": "stdout",
     "output_type": "stream",
     "text": [
      "(18830, 4)\n"
     ]
    },
    {
     "data": {
      "text/plain": [
       "(18830,)"
      ]
     },
     "execution_count": 68,
     "metadata": {},
     "output_type": "execute_result"
    }
   ],
   "source": [
    "print(x_train_final.shape)\n",
    "y_train.shape"
   ]
  },
  {
   "cell_type": "code",
   "execution_count": 69,
   "metadata": {},
   "outputs": [],
   "source": [
    "frames2 = [y_pred_DT_Test,y_pred_RF_Test, y_pred_XGB_Test ,y_pred_LR_Test]\n",
    "x_test_final = pd.concat(frames2, axis =1)"
   ]
  },
  {
   "cell_type": "code",
   "execution_count": 70,
   "metadata": {
    "scrolled": true
   },
   "outputs": [
    {
     "name": "stdout",
     "output_type": "stream",
     "text": [
      "(8070, 4)\n"
     ]
    },
    {
     "data": {
      "text/plain": [
       "(8070, 1)"
      ]
     },
     "execution_count": 70,
     "metadata": {},
     "output_type": "execute_result"
    }
   ],
   "source": [
    "print(x_test_final.shape)\n",
    "y_test.shape"
   ]
  },
  {
   "cell_type": "code",
   "execution_count": 71,
   "metadata": {},
   "outputs": [
    {
     "data": {
      "text/plain": [
       "Index(['DT_Predictions', 'RF_Predictions', 'XGB_Predictions',\n",
       "       'LR_Predictions'],\n",
       "      dtype='object')"
      ]
     },
     "execution_count": 71,
     "metadata": {},
     "output_type": "execute_result"
    }
   ],
   "source": [
    "x_test_final.columns"
   ]
  },
  {
   "cell_type": "code",
   "execution_count": 72,
   "metadata": {},
   "outputs": [
    {
     "data": {
      "text/plain": [
       "Index(['DT_Predictions', 'RF_Predictions', 'XGB_Predictions',\n",
       "       'LR_Predictions'],\n",
       "      dtype='object')"
      ]
     },
     "execution_count": 72,
     "metadata": {},
     "output_type": "execute_result"
    }
   ],
   "source": [
    "x_train_final.columns"
   ]
  },
  {
   "cell_type": "markdown",
   "metadata": {},
   "source": [
    "# Building a final model by using the predictions from each models as Independent variables"
   ]
  },
  {
   "cell_type": "code",
   "execution_count": 73,
   "metadata": {},
   "outputs": [],
   "source": [
    "# Train the model on training data\n",
    "\n",
    "#clf_GBM_final= GradientBoostingClassifier(learning_rate=0.01,random_state=42, n_estimators=50)\n",
    "#clf_GBM_final.fit(x_train_final, y_train)"
   ]
  },
  {
   "cell_type": "code",
   "execution_count": 74,
   "metadata": {},
   "outputs": [
    {
     "data": {
      "text/plain": [
       "RandomForestClassifier(bootstrap=True, class_weight=None, criterion='gini',\n",
       "            max_depth=None, max_features=2, max_leaf_nodes=None,\n",
       "            min_impurity_decrease=0.0, min_impurity_split=None,\n",
       "            min_samples_leaf=1, min_samples_split=2,\n",
       "            min_weight_fraction_leaf=0.0, n_estimators=1000, n_jobs=None,\n",
       "            oob_score=False, random_state=42, verbose=0, warm_start=False)"
      ]
     },
     "execution_count": 74,
     "metadata": {},
     "output_type": "execute_result"
    }
   ],
   "source": [
    "# Train the model on training data\n",
    "\n",
    "clf_RF_final= RandomForestClassifier(n_estimators=1000, random_state=42, max_features=2)\n",
    "clf_RF_final.fit(x_train_final, y_train)"
   ]
  },
  {
   "cell_type": "code",
   "execution_count": 75,
   "metadata": {},
   "outputs": [],
   "source": [
    "feature_importances = pd.DataFrame(clf_RF_final.feature_importances_,\n",
    "                                   index = x_train_final.columns,\n",
    "                                    columns=['importance']).sort_values('importance', \n",
    "                                                                        ascending=False)"
   ]
  },
  {
   "cell_type": "code",
   "execution_count": 76,
   "metadata": {},
   "outputs": [
    {
     "data": {
      "text/html": [
       "<div>\n",
       "<style scoped>\n",
       "    .dataframe tbody tr th:only-of-type {\n",
       "        vertical-align: middle;\n",
       "    }\n",
       "\n",
       "    .dataframe tbody tr th {\n",
       "        vertical-align: top;\n",
       "    }\n",
       "\n",
       "    .dataframe thead th {\n",
       "        text-align: right;\n",
       "    }\n",
       "</style>\n",
       "<table border=\"1\" class=\"dataframe\">\n",
       "  <thead>\n",
       "    <tr style=\"text-align: right;\">\n",
       "      <th></th>\n",
       "      <th>importance</th>\n",
       "    </tr>\n",
       "  </thead>\n",
       "  <tbody>\n",
       "    <tr>\n",
       "      <th>RF_Predictions</th>\n",
       "      <td>0.900971</td>\n",
       "    </tr>\n",
       "    <tr>\n",
       "      <th>XGB_Predictions</th>\n",
       "      <td>0.074389</td>\n",
       "    </tr>\n",
       "    <tr>\n",
       "      <th>DT_Predictions</th>\n",
       "      <td>0.024086</td>\n",
       "    </tr>\n",
       "    <tr>\n",
       "      <th>LR_Predictions</th>\n",
       "      <td>0.000553</td>\n",
       "    </tr>\n",
       "  </tbody>\n",
       "</table>\n",
       "</div>"
      ],
      "text/plain": [
       "                 importance\n",
       "RF_Predictions     0.900971\n",
       "XGB_Predictions    0.074389\n",
       "DT_Predictions     0.024086\n",
       "LR_Predictions     0.000553"
      ]
     },
     "execution_count": 76,
     "metadata": {},
     "output_type": "execute_result"
    }
   ],
   "source": [
    "feature_importances"
   ]
  },
  {
   "cell_type": "code",
   "execution_count": 77,
   "metadata": {},
   "outputs": [],
   "source": [
    "importances = clf_RF_final.feature_importances_  # Gini importance."
   ]
  },
  {
   "cell_type": "code",
   "execution_count": 78,
   "metadata": {
    "scrolled": true
   },
   "outputs": [
    {
     "name": "stdout",
     "output_type": "stream",
     "text": [
      "[2.40861810e-02 9.00971264e-01 7.43892001e-02 5.53354525e-04]\n"
     ]
    },
    {
     "data": {
      "text/plain": [
       "<matplotlib.axes._subplots.AxesSubplot at 0x183c2ae28d0>"
      ]
     },
     "execution_count": 78,
     "metadata": {},
     "output_type": "execute_result"
    },
    {
     "data": {
      "image/png": "[encoded data removed]",
      "text/plain": [
       "<Figure size 720x720 with 1 Axes>"
      ]
     },
     "metadata": {
      "needs_background": "light"
     },
     "output_type": "display_data"
    }
   ],
   "source": [
    " #Get Feature Importance from the classifier\n",
    "feature_importance = clf_RF_final.feature_importances_\n",
    "print (clf_RF_final.feature_importances_)\n",
    "feat_importances = pd.Series(clf_RF_final.feature_importances_, index=x_train_final.columns)\n",
    "feat_importances = feat_importances.nlargest(5)\n",
    "feat_importances.plot(kind='barh' , figsize=(10,10)) "
   ]
  },
  {
   "cell_type": "code",
   "execution_count": 79,
   "metadata": {},
   "outputs": [],
   "source": [
    "# use the model to make predictions with the test data\n",
    "y_pred_RF_Train_final = clf_RF_final.predict(x_train_final)\n",
    "y_pred_RF_Test_final = clf_RF_final.predict(x_test_final)"
   ]
  },
  {
   "cell_type": "code",
   "execution_count": 80,
   "metadata": {},
   "outputs": [],
   "source": [
    "y_pred_RF_Train_final = pd.DataFrame(y_pred_RF_Train_final)\n",
    "y_pred_RF_Test_final =pd.DataFrame({'predict':y_pred_RF_Test_final})"
   ]
  },
  {
   "cell_type": "code",
   "execution_count": 81,
   "metadata": {},
   "outputs": [
    {
     "name": "stdout",
     "output_type": "stream",
     "text": [
      "              precision    recall  f1-score   support\n",
      "\n",
      "         0.0       0.94      1.00      0.97      7451\n",
      "         1.0       0.92      0.24      0.39       619\n",
      "\n",
      "   micro avg       0.94      0.94      0.94      8070\n",
      "   macro avg       0.93      0.62      0.68      8070\n",
      "weighted avg       0.94      0.94      0.92      8070\n",
      "\n"
     ]
    }
   ],
   "source": [
    "print(classification_report(y_test,y_pred_RF_Test) )"
   ]
  },
  {
   "cell_type": "code",
   "execution_count": 82,
   "metadata": {},
   "outputs": [],
   "source": [
    "Y_testd=pd.DataFrame(y_test)"
   ]
  },
  {
   "cell_type": "code",
   "execution_count": 83,
   "metadata": {},
   "outputs": [],
   "source": [
    "confusion_fianl=confusion_matrix (y_test,y_pred_RF_Test)"
   ]
  },
  {
   "cell_type": "code",
   "execution_count": 84,
   "metadata": {},
   "outputs": [
    {
     "data": {
      "text/plain": [
       "array([[7437,  468],\n",
       "       [  14,  151]], dtype=int64)"
      ]
     },
     "execution_count": 84,
     "metadata": {},
     "output_type": "execute_result"
    }
   ],
   "source": [
    "confusion_fianl.transpose()"
   ]
  },
  {
   "cell_type": "code",
   "execution_count": 85,
   "metadata": {
    "scrolled": false
   },
   "outputs": [
    {
     "data": {
      "text/plain": [
       "Text(0.5, 15.0, 'Predicted label')"
      ]
     },
     "execution_count": 85,
     "metadata": {},
     "output_type": "execute_result"
    },
    {
     "data": {
      "image/png": "[encoded data removed]",
      "text/plain": [
       "<Figure size 432x288 with 2 Axes>"
      ]
     },
     "metadata": {
      "needs_background": "light"
     },
     "output_type": "display_data"
    }
   ],
   "source": [
    "sns.heatmap(confusion_fianl, annot=True,fmt='.2f')\n",
    "plt.ylabel('True label')\n",
    "plt.xlabel('Predicted label')"
   ]
  },
  {
   "cell_type": "code",
   "execution_count": null,
   "metadata": {},
   "outputs": [],
   "source": []
  }
 ],
 "metadata": {
  "kernelspec": {
   "display_name": "Python 3",
   "language": "python",
   "name": "python3"
  },
  "language_info": {
   "codemirror_mode": {
    "name": "ipython",
    "version": 3
   },
   "file_extension": ".py",
   "mimetype": "text/x-python",
   "name": "python",
   "nbconvert_exporter": "python",
   "pygments_lexer": "ipython3",
   "version": "3.7.1"
  }
 },
 "nbformat": 4,
 "nbformat_minor": 2
}
